{
 "cells": [
  {
   "cell_type": "code",
   "execution_count": 9,
   "id": "2c1337e0-1aaf-46a1-9f27-fc7f406e7b8c",
   "metadata": {
    "execution": {
     "iopub.execute_input": "2024-07-15T14:47:58.441021Z",
     "iopub.status.busy": "2024-07-15T14:47:58.440732Z",
     "iopub.status.idle": "2024-07-15T14:48:38.988137Z",
     "shell.execute_reply": "2024-07-15T14:48:38.987583Z",
     "shell.execute_reply.started": "2024-07-15T14:47:58.441000Z"
    }
   },
   "outputs": [
    {
     "name": "stdout",
     "output_type": "stream",
     "text": [
      "Collecting polars\n",
      "  Obtaining dependency information for polars from https://files.pythonhosted.org/packages/db/94/618144499355900ffe0f5e496819cb0266a9e1845b6653ae574bd7965dc3/polars-1.1.0-cp38-abi3-manylinux_2_17_x86_64.manylinux2014_x86_64.whl.metadata\n",
      "  Downloading polars-1.1.0-cp38-abi3-manylinux_2_17_x86_64.manylinux2014_x86_64.whl.metadata (14 kB)\n",
      "Downloading polars-1.1.0-cp38-abi3-manylinux_2_17_x86_64.manylinux2014_x86_64.whl (30.7 MB)\n",
      "\u001b[2K   \u001b[90m━━━━━━━━━━━━━━━━━━━━━━━━━━━━━━━━━━━━━━━━\u001b[0m \u001b[32m30.7/30.7 MB\u001b[0m \u001b[31m85.8 MB/s\u001b[0m eta \u001b[36m0:00:00\u001b[0m:00:01\u001b[0m00:01\u001b[0m\n",
      "\u001b[?25hInstalling collected packages: polars\n",
      "Successfully installed polars-1.1.0\n"
     ]
    }
   ],
   "source": [
    "!pip install polars"
   ]
  },
  {
   "cell_type": "code",
   "execution_count": 1,
   "id": "3055c2f7-3237-4b3b-b921-868063d2b12d",
   "metadata": {
    "execution": {
     "iopub.execute_input": "2024-09-19T11:17:58.275648Z",
     "iopub.status.busy": "2024-09-19T11:17:58.275344Z",
     "iopub.status.idle": "2024-09-19T11:19:10.398772Z",
     "shell.execute_reply": "2024-09-19T11:19:10.398304Z",
     "shell.execute_reply.started": "2024-09-19T11:17:58.275630Z"
    }
   },
   "outputs": [],
   "source": [
    "import glob\n",
    "import tqdm\n",
    "import numpy as np\n",
    "import pandas as pd\n",
    "import polars as pl\n",
    "import dask.dataframe as dd\n",
    "import matplotlib.pyplot as plt\n",
    "from itertools import combinations"
   ]
  },
  {
   "cell_type": "code",
   "execution_count": 2,
   "id": "3e47c7a1-1d1b-4d7a-90f8-ea5597a76467",
   "metadata": {
    "execution": {
     "iopub.execute_input": "2024-09-19T11:19:10.399759Z",
     "iopub.status.busy": "2024-09-19T11:19:10.399546Z",
     "iopub.status.idle": "2024-09-19T11:19:10.402970Z",
     "shell.execute_reply": "2024-09-19T11:19:10.402628Z",
     "shell.execute_reply.started": "2024-09-19T11:19:10.399745Z"
    }
   },
   "outputs": [],
   "source": [
    "path = '/N/project/openalex/slices/subset-1990-2022/dec-2023/'\n",
    "works_path = 'works'\n",
    "works_authorships_path = 'works_authorships'\n",
    "works_referenced_works_path = 'works_referenced_works'"
   ]
  },
  {
   "cell_type": "code",
   "execution_count": 3,
   "id": "15d90d19-53d0-42e8-8d44-ff7a7c2434ff",
   "metadata": {
    "execution": {
     "iopub.execute_input": "2024-07-18T18:27:01.100767Z",
     "iopub.status.busy": "2024-07-18T18:27:01.100614Z",
     "iopub.status.idle": "2024-07-18T18:27:06.009755Z",
     "shell.execute_reply": "2024-07-18T18:27:06.009296Z",
     "shell.execute_reply.started": "2024-07-18T18:27:01.100755Z"
    }
   },
   "outputs": [],
   "source": [
    "works_dd = dd.read_parquet(path + works_path, calculate_divisions=True) #, npartitions=10)"
   ]
  },
  {
   "cell_type": "code",
   "execution_count": 4,
   "id": "2a56130c-b788-4dbc-a802-b16499767caf",
   "metadata": {
    "execution": {
     "iopub.execute_input": "2024-07-18T02:40:48.809706Z",
     "iopub.status.busy": "2024-07-18T02:40:48.809446Z",
     "iopub.status.idle": "2024-07-18T02:41:01.427359Z",
     "shell.execute_reply": "2024-07-18T02:41:01.426733Z",
     "shell.execute_reply.started": "2024-07-18T02:40:48.809692Z"
    }
   },
   "outputs": [
    {
     "data": {
      "text/html": [
       "<div>\n",
       "<style scoped>\n",
       "    .dataframe tbody tr th:only-of-type {\n",
       "        vertical-align: middle;\n",
       "    }\n",
       "\n",
       "    .dataframe tbody tr th {\n",
       "        vertical-align: top;\n",
       "    }\n",
       "\n",
       "    .dataframe thead th {\n",
       "        text-align: right;\n",
       "    }\n",
       "</style>\n",
       "<table border=\"1\" class=\"dataframe\">\n",
       "  <thead>\n",
       "    <tr style=\"text-align: right;\">\n",
       "      <th></th>\n",
       "      <th>Unnamed: 0.1</th>\n",
       "      <th>Unnamed: 0</th>\n",
       "      <th>work_id</th>\n",
       "      <th>author_position</th>\n",
       "      <th>author_id</th>\n",
       "      <th>author_name</th>\n",
       "      <th>institution_lineage_level</th>\n",
       "      <th>institution_id</th>\n",
       "      <th>institution_name</th>\n",
       "      <th>country_code</th>\n",
       "      <th>is_corresponding</th>\n",
       "      <th>publication_year</th>\n",
       "    </tr>\n",
       "  </thead>\n",
       "  <tbody>\n",
       "    <tr>\n",
       "      <th>0</th>\n",
       "      <td>45</td>\n",
       "      <td>1736429</td>\n",
       "      <td>186730611</td>\n",
       "      <td>first</td>\n",
       "      <td>5078262518</td>\n",
       "      <td>Guilherme Ribeiro</td>\n",
       "      <td>0</td>\n",
       "      <td>161460629</td>\n",
       "      <td>Universidade Federal Rural do Rio de Janeiro</td>\n",
       "      <td>BR</td>\n",
       "      <td>True</td>\n",
       "      <td>2014</td>\n",
       "    </tr>\n",
       "    <tr>\n",
       "      <th>1</th>\n",
       "      <td>46</td>\n",
       "      <td>1745057</td>\n",
       "      <td>193254257</td>\n",
       "      <td>first</td>\n",
       "      <td>5019917793</td>\n",
       "      <td>Maria Cecília Picinato</td>\n",
       "      <td>0</td>\n",
       "      <td>17974374</td>\n",
       "      <td>Universidade de São Paulo</td>\n",
       "      <td>BR</td>\n",
       "      <td>False</td>\n",
       "      <td>2001</td>\n",
       "    </tr>\n",
       "    <tr>\n",
       "      <th>2</th>\n",
       "      <td>174</td>\n",
       "      <td>1632607</td>\n",
       "      <td>206370407</td>\n",
       "      <td>first</td>\n",
       "      <td>5027925855</td>\n",
       "      <td>Eduardo André Perondi</td>\n",
       "      <td>0</td>\n",
       "      <td>4210126369</td>\n",
       "      <td>Polydoro Ernani de São Thiago University Hospital</td>\n",
       "      <td>BR</td>\n",
       "      <td>True</td>\n",
       "      <td>2007</td>\n",
       "    </tr>\n",
       "    <tr>\n",
       "      <th>3</th>\n",
       "      <td>529</td>\n",
       "      <td>1508716</td>\n",
       "      <td>222095242</td>\n",
       "      <td>first</td>\n",
       "      <td>5004541578</td>\n",
       "      <td>Reis Lc</td>\n",
       "      <td>0</td>\n",
       "      <td>879563668</td>\n",
       "      <td>Universidade Estadual Paulista (Unesp)</td>\n",
       "      <td>BR</td>\n",
       "      <td>False</td>\n",
       "      <td>1996</td>\n",
       "    </tr>\n",
       "    <tr>\n",
       "      <th>4</th>\n",
       "      <td>547</td>\n",
       "      <td>643845</td>\n",
       "      <td>181667436</td>\n",
       "      <td>first</td>\n",
       "      <td>5070999666</td>\n",
       "      <td>Carlos Alberto Crespo de Souza</td>\n",
       "      <td>0</td>\n",
       "      <td>4210148245</td>\n",
       "      <td>Fundação Faculdade de Medicina</td>\n",
       "      <td>BR</td>\n",
       "      <td>False</td>\n",
       "      <td>1999</td>\n",
       "    </tr>\n",
       "  </tbody>\n",
       "</table>\n",
       "</div>"
      ],
      "text/plain": [
       "   Unnamed: 0.1  Unnamed: 0    work_id author_position   author_id  \\\n",
       "0            45     1736429  186730611           first  5078262518   \n",
       "1            46     1745057  193254257           first  5019917793   \n",
       "2           174     1632607  206370407           first  5027925855   \n",
       "3           529     1508716  222095242           first  5004541578   \n",
       "4           547      643845  181667436           first  5070999666   \n",
       "\n",
       "                      author_name  institution_lineage_level  institution_id  \\\n",
       "0               Guilherme Ribeiro                          0       161460629   \n",
       "1          Maria Cecília Picinato                          0        17974374   \n",
       "2           Eduardo André Perondi                          0      4210126369   \n",
       "3                         Reis Lc                          0       879563668   \n",
       "4  Carlos Alberto Crespo de Souza                          0      4210148245   \n",
       "\n",
       "                                    institution_name country_code  \\\n",
       "0       Universidade Federal Rural do Rio de Janeiro           BR   \n",
       "1                          Universidade de São Paulo           BR   \n",
       "2  Polydoro Ernani de São Thiago University Hospital           BR   \n",
       "3             Universidade Estadual Paulista (Unesp)           BR   \n",
       "4                     Fundação Faculdade de Medicina           BR   \n",
       "\n",
       "   is_corresponding  publication_year  \n",
       "0              True              2014  \n",
       "1             False              2001  \n",
       "2              True              2007  \n",
       "3             False              1996  \n",
       "4             False              1999  "
      ]
     },
     "execution_count": 4,
     "metadata": {},
     "output_type": "execute_result"
    }
   ],
   "source": [
    "works_br = pd.read_csv('works_br', sep='\\t')\n",
    "works_br.head()"
   ]
  },
  {
   "cell_type": "code",
   "execution_count": 5,
   "id": "82d89e9e-b583-4dfc-9b50-9b9c7ac23e3e",
   "metadata": {
    "execution": {
     "iopub.execute_input": "2024-07-18T02:41:01.428370Z",
     "iopub.status.busy": "2024-07-18T02:41:01.428155Z",
     "iopub.status.idle": "2024-07-18T02:41:02.626868Z",
     "shell.execute_reply": "2024-07-18T02:41:02.626254Z",
     "shell.execute_reply.started": "2024-07-18T02:41:01.428355Z"
    }
   },
   "outputs": [],
   "source": [
    "work_id_list = set(works_br['work_id'].values)"
   ]
  },
  {
   "cell_type": "code",
   "execution_count": 9,
   "id": "a0eb629a-f871-49c1-b961-a36107cdcb55",
   "metadata": {
    "execution": {
     "iopub.execute_input": "2024-05-28T00:35:15.505288Z",
     "iopub.status.busy": "2024-05-28T00:35:15.505122Z",
     "iopub.status.idle": "2024-05-28T00:35:15.510488Z",
     "shell.execute_reply": "2024-05-28T00:35:15.510155Z",
     "shell.execute_reply.started": "2024-05-28T00:35:15.505274Z"
    }
   },
   "outputs": [
    {
     "data": {
      "text/plain": [
       "2608997"
      ]
     },
     "execution_count": 9,
     "metadata": {},
     "output_type": "execute_result"
    }
   ],
   "source": [
    "len(work_id_list)"
   ]
  },
  {
   "cell_type": "code",
   "execution_count": null,
   "id": "951b9190-dd5f-4d19-bdd4-cdbff0958c7b",
   "metadata": {},
   "outputs": [],
   "source": []
  },
  {
   "cell_type": "code",
   "execution_count": 13,
   "id": "cda0a939-f896-46b0-ad40-33c7520c0041",
   "metadata": {
    "execution": {
     "iopub.execute_input": "2024-07-15T14:56:48.102551Z",
     "iopub.status.busy": "2024-07-15T14:56:48.101625Z",
     "iopub.status.idle": "2024-07-15T14:56:52.934898Z",
     "shell.execute_reply": "2024-07-15T14:56:52.934314Z",
     "shell.execute_reply.started": "2024-07-15T14:56:48.102530Z"
    }
   },
   "outputs": [],
   "source": [
    "references = dd.read_parquet(path + works_referenced_works_path)"
   ]
  },
  {
   "cell_type": "code",
   "execution_count": 8,
   "id": "2d1e577f-0dbd-40c2-a61f-d01c9ce01d56",
   "metadata": {
    "execution": {
     "iopub.execute_input": "2024-05-28T09:22:41.771416Z",
     "iopub.status.busy": "2024-05-28T09:22:41.771255Z",
     "iopub.status.idle": "2024-05-28T09:22:50.752718Z",
     "shell.execute_reply": "2024-05-28T09:22:50.752220Z",
     "shell.execute_reply.started": "2024-05-28T09:22:41.771400Z"
    }
   },
   "outputs": [
    {
     "data": {
      "text/html": [
       "<div>\n",
       "<style scoped>\n",
       "    .dataframe tbody tr th:only-of-type {\n",
       "        vertical-align: middle;\n",
       "    }\n",
       "\n",
       "    .dataframe tbody tr th {\n",
       "        vertical-align: top;\n",
       "    }\n",
       "\n",
       "    .dataframe thead th {\n",
       "        text-align: right;\n",
       "    }\n",
       "</style>\n",
       "<table border=\"1\" class=\"dataframe\">\n",
       "  <thead>\n",
       "    <tr style=\"text-align: right;\">\n",
       "      <th></th>\n",
       "      <th>work_id</th>\n",
       "      <th>referenced_work_id</th>\n",
       "      <th>work_publication_year</th>\n",
       "      <th>referenced_work_publication_year</th>\n",
       "    </tr>\n",
       "  </thead>\n",
       "  <tbody>\n",
       "    <tr>\n",
       "      <th>4572360</th>\n",
       "      <td>4285386458</td>\n",
       "      <td>3699</td>\n",
       "      <td>2023</td>\n",
       "      <td>2008</td>\n",
       "    </tr>\n",
       "    <tr>\n",
       "      <th>2623263</th>\n",
       "      <td>197096146</td>\n",
       "      <td>524</td>\n",
       "      <td>2003</td>\n",
       "      <td>2002</td>\n",
       "    </tr>\n",
       "    <tr>\n",
       "      <th>306929</th>\n",
       "      <td>2082656788</td>\n",
       "      <td>524</td>\n",
       "      <td>2009</td>\n",
       "      <td>2002</td>\n",
       "    </tr>\n",
       "    <tr>\n",
       "      <th>180364</th>\n",
       "      <td>2134233184</td>\n",
       "      <td>4600</td>\n",
       "      <td>2012</td>\n",
       "      <td>2013</td>\n",
       "    </tr>\n",
       "    <tr>\n",
       "      <th>6169838</th>\n",
       "      <td>2001377875</td>\n",
       "      <td>4600</td>\n",
       "      <td>2013</td>\n",
       "      <td>2013</td>\n",
       "    </tr>\n",
       "  </tbody>\n",
       "</table>\n",
       "</div>"
      ],
      "text/plain": [
       "            work_id  referenced_work_id  work_publication_year  \\\n",
       "4572360  4285386458                3699                   2023   \n",
       "2623263   197096146                 524                   2003   \n",
       "306929   2082656788                 524                   2009   \n",
       "180364   2134233184                4600                   2012   \n",
       "6169838  2001377875                4600                   2013   \n",
       "\n",
       "         referenced_work_publication_year  \n",
       "4572360                              2008  \n",
       "2623263                              2002  \n",
       "306929                               2002  \n",
       "180364                               2013  \n",
       "6169838                              2013  "
      ]
     },
     "execution_count": 8,
     "metadata": {},
     "output_type": "execute_result"
    }
   ],
   "source": [
    "references.head()"
   ]
  },
  {
   "cell_type": "code",
   "execution_count": 6,
   "id": "78495265-a4f7-40af-9a9c-9e19df78a2b0",
   "metadata": {
    "execution": {
     "iopub.execute_input": "2024-06-03T18:47:08.862904Z",
     "iopub.status.busy": "2024-06-03T18:47:08.862715Z",
     "iopub.status.idle": "2024-06-03T18:47:08.935631Z",
     "shell.execute_reply": "2024-06-03T18:47:08.935024Z",
     "shell.execute_reply.started": "2024-06-03T18:47:08.862885Z"
    }
   },
   "outputs": [],
   "source": [
    "citations = references.groupby('referenced_work_id').count()"
   ]
  },
  {
   "cell_type": "code",
   "execution_count": 7,
   "id": "61ebcadf-b4d0-45d3-970f-4fdf2cbc9200",
   "metadata": {
    "execution": {
     "iopub.execute_input": "2024-06-03T18:47:08.936519Z",
     "iopub.status.busy": "2024-06-03T18:47:08.936339Z",
     "iopub.status.idle": "2024-06-03T18:54:04.758654Z",
     "shell.execute_reply": "2024-06-03T18:54:04.757919Z",
     "shell.execute_reply.started": "2024-06-03T18:47:08.936501Z"
    }
   },
   "outputs": [
    {
     "data": {
      "text/html": [
       "<div>\n",
       "<style scoped>\n",
       "    .dataframe tbody tr th:only-of-type {\n",
       "        vertical-align: middle;\n",
       "    }\n",
       "\n",
       "    .dataframe tbody tr th {\n",
       "        vertical-align: top;\n",
       "    }\n",
       "\n",
       "    .dataframe thead th {\n",
       "        text-align: right;\n",
       "    }\n",
       "</style>\n",
       "<table border=\"1\" class=\"dataframe\">\n",
       "  <thead>\n",
       "    <tr style=\"text-align: right;\">\n",
       "      <th></th>\n",
       "      <th>work_id</th>\n",
       "      <th>work_publication_year</th>\n",
       "      <th>referenced_work_publication_year</th>\n",
       "    </tr>\n",
       "    <tr>\n",
       "      <th>referenced_work_id</th>\n",
       "      <th></th>\n",
       "      <th></th>\n",
       "      <th></th>\n",
       "    </tr>\n",
       "  </thead>\n",
       "  <tbody>\n",
       "    <tr>\n",
       "      <th>524</th>\n",
       "      <td>58</td>\n",
       "      <td>58</td>\n",
       "      <td>58</td>\n",
       "    </tr>\n",
       "    <tr>\n",
       "      <th>536</th>\n",
       "      <td>30</td>\n",
       "      <td>30</td>\n",
       "      <td>30</td>\n",
       "    </tr>\n",
       "    <tr>\n",
       "      <th>763</th>\n",
       "      <td>25</td>\n",
       "      <td>25</td>\n",
       "      <td>25</td>\n",
       "    </tr>\n",
       "    <tr>\n",
       "      <th>3699</th>\n",
       "      <td>117</td>\n",
       "      <td>117</td>\n",
       "      <td>117</td>\n",
       "    </tr>\n",
       "    <tr>\n",
       "      <th>4600</th>\n",
       "      <td>21</td>\n",
       "      <td>21</td>\n",
       "      <td>21</td>\n",
       "    </tr>\n",
       "  </tbody>\n",
       "</table>\n",
       "</div>"
      ],
      "text/plain": [
       "                    work_id  work_publication_year  \\\n",
       "referenced_work_id                                   \n",
       "524                      58                     58   \n",
       "536                      30                     30   \n",
       "763                      25                     25   \n",
       "3699                    117                    117   \n",
       "4600                     21                     21   \n",
       "\n",
       "                    referenced_work_publication_year  \n",
       "referenced_work_id                                    \n",
       "524                                               58  \n",
       "536                                               30  \n",
       "763                                               25  \n",
       "3699                                             117  \n",
       "4600                                              21  "
      ]
     },
     "execution_count": 7,
     "metadata": {},
     "output_type": "execute_result"
    }
   ],
   "source": [
    "citations.head()"
   ]
  },
  {
   "cell_type": "code",
   "execution_count": 15,
   "id": "d75b833f-5f72-4de3-9aa5-3feefc07811e",
   "metadata": {
    "execution": {
     "iopub.execute_input": "2024-06-03T19:19:35.586573Z",
     "iopub.status.busy": "2024-06-03T19:19:35.586058Z",
     "iopub.status.idle": "2024-06-03T19:19:35.593000Z",
     "shell.execute_reply": "2024-06-03T19:19:35.592441Z",
     "shell.execute_reply.started": "2024-06-03T19:19:35.586553Z"
    }
   },
   "outputs": [],
   "source": [
    "citations = citations.drop('work_id', axis=1)"
   ]
  },
  {
   "cell_type": "code",
   "execution_count": 16,
   "id": "3bca538d-d7e2-48fe-ad23-537d35e83138",
   "metadata": {
    "execution": {
     "iopub.execute_input": "2024-06-03T19:19:42.722267Z",
     "iopub.status.busy": "2024-06-03T19:19:42.721975Z",
     "iopub.status.idle": "2024-06-03T19:25:19.723981Z",
     "shell.execute_reply": "2024-06-03T19:25:19.722403Z",
     "shell.execute_reply.started": "2024-06-03T19:19:42.722250Z"
    }
   },
   "outputs": [
    {
     "data": {
      "text/html": [
       "<div>\n",
       "<style scoped>\n",
       "    .dataframe tbody tr th:only-of-type {\n",
       "        vertical-align: middle;\n",
       "    }\n",
       "\n",
       "    .dataframe tbody tr th {\n",
       "        vertical-align: top;\n",
       "    }\n",
       "\n",
       "    .dataframe thead th {\n",
       "        text-align: right;\n",
       "    }\n",
       "</style>\n",
       "<table border=\"1\" class=\"dataframe\">\n",
       "  <thead>\n",
       "    <tr style=\"text-align: right;\">\n",
       "      <th></th>\n",
       "      <th>work_publication_year</th>\n",
       "      <th>referenced_work_publication_year</th>\n",
       "    </tr>\n",
       "    <tr>\n",
       "      <th>referenced_work_id</th>\n",
       "      <th></th>\n",
       "      <th></th>\n",
       "    </tr>\n",
       "  </thead>\n",
       "  <tbody>\n",
       "    <tr>\n",
       "      <th>524</th>\n",
       "      <td>58</td>\n",
       "      <td>58</td>\n",
       "    </tr>\n",
       "    <tr>\n",
       "      <th>536</th>\n",
       "      <td>30</td>\n",
       "      <td>30</td>\n",
       "    </tr>\n",
       "    <tr>\n",
       "      <th>763</th>\n",
       "      <td>25</td>\n",
       "      <td>25</td>\n",
       "    </tr>\n",
       "    <tr>\n",
       "      <th>3699</th>\n",
       "      <td>117</td>\n",
       "      <td>117</td>\n",
       "    </tr>\n",
       "    <tr>\n",
       "      <th>4600</th>\n",
       "      <td>21</td>\n",
       "      <td>21</td>\n",
       "    </tr>\n",
       "  </tbody>\n",
       "</table>\n",
       "</div>"
      ],
      "text/plain": [
       "                    work_publication_year  referenced_work_publication_year\n",
       "referenced_work_id                                                         \n",
       "524                                    58                                58\n",
       "536                                    30                                30\n",
       "763                                    25                                25\n",
       "3699                                  117                               117\n",
       "4600                                   21                                21"
      ]
     },
     "execution_count": 16,
     "metadata": {},
     "output_type": "execute_result"
    }
   ],
   "source": [
    "citations.head()"
   ]
  },
  {
   "cell_type": "code",
   "execution_count": 17,
   "id": "369f7539-78bf-4aae-9143-a7c5fced3b63",
   "metadata": {
    "execution": {
     "iopub.execute_input": "2024-06-03T19:26:11.818851Z",
     "iopub.status.busy": "2024-06-03T19:26:11.818359Z",
     "iopub.status.idle": "2024-06-03T19:32:51.483300Z",
     "shell.execute_reply": "2024-06-03T19:32:51.481987Z",
     "shell.execute_reply.started": "2024-06-03T19:26:11.818828Z"
    }
   },
   "outputs": [],
   "source": [
    "works_br_with_cits = dd.merge(works_br, citations, left_on='work_id', right_on='referenced_work_id').compute()"
   ]
  },
  {
   "cell_type": "code",
   "execution_count": null,
   "id": "36d12fb2-813d-4d01-85bb-20b1470617ff",
   "metadata": {},
   "outputs": [],
   "source": [
    "len(works_br_with_cits)"
   ]
  },
  {
   "cell_type": "code",
   "execution_count": 18,
   "id": "a5636355-3b9e-45cb-811b-324c8510d8e7",
   "metadata": {
    "execution": {
     "iopub.execute_input": "2024-06-03T19:32:51.485753Z",
     "iopub.status.busy": "2024-06-03T19:32:51.485493Z",
     "iopub.status.idle": "2024-06-03T19:32:51.501593Z",
     "shell.execute_reply": "2024-06-03T19:32:51.500719Z",
     "shell.execute_reply.started": "2024-06-03T19:32:51.485730Z"
    },
    "scrolled": true
   },
   "outputs": [
    {
     "data": {
      "text/html": [
       "<div>\n",
       "<style scoped>\n",
       "    .dataframe tbody tr th:only-of-type {\n",
       "        vertical-align: middle;\n",
       "    }\n",
       "\n",
       "    .dataframe tbody tr th {\n",
       "        vertical-align: top;\n",
       "    }\n",
       "\n",
       "    .dataframe thead th {\n",
       "        text-align: right;\n",
       "    }\n",
       "</style>\n",
       "<table border=\"1\" class=\"dataframe\">\n",
       "  <thead>\n",
       "    <tr style=\"text-align: right;\">\n",
       "      <th></th>\n",
       "      <th>Unnamed: 0.1</th>\n",
       "      <th>Unnamed: 0</th>\n",
       "      <th>work_id</th>\n",
       "      <th>author_position</th>\n",
       "      <th>author_id</th>\n",
       "      <th>author_name</th>\n",
       "      <th>institution_lineage_level</th>\n",
       "      <th>institution_id</th>\n",
       "      <th>institution_name</th>\n",
       "      <th>country_code</th>\n",
       "      <th>is_corresponding</th>\n",
       "      <th>publication_year</th>\n",
       "      <th>work_publication_year</th>\n",
       "      <th>referenced_work_publication_year</th>\n",
       "    </tr>\n",
       "  </thead>\n",
       "  <tbody>\n",
       "    <tr>\n",
       "      <th>0</th>\n",
       "      <td>174</td>\n",
       "      <td>1632607</td>\n",
       "      <td>206370407</td>\n",
       "      <td>first</td>\n",
       "      <td>5027925855</td>\n",
       "      <td>Eduardo André Perondi</td>\n",
       "      <td>0</td>\n",
       "      <td>4210126369</td>\n",
       "      <td>Polydoro Ernani de São Thiago University Hospital</td>\n",
       "      <td>BR</td>\n",
       "      <td>True</td>\n",
       "      <td>2007</td>\n",
       "      <td>32</td>\n",
       "      <td>32</td>\n",
       "    </tr>\n",
       "    <tr>\n",
       "      <th>1</th>\n",
       "      <td>529</td>\n",
       "      <td>1508716</td>\n",
       "      <td>222095242</td>\n",
       "      <td>first</td>\n",
       "      <td>5004541578</td>\n",
       "      <td>Reis Lc</td>\n",
       "      <td>0</td>\n",
       "      <td>879563668</td>\n",
       "      <td>Universidade Estadual Paulista (Unesp)</td>\n",
       "      <td>BR</td>\n",
       "      <td>False</td>\n",
       "      <td>1996</td>\n",
       "      <td>1</td>\n",
       "      <td>1</td>\n",
       "    </tr>\n",
       "    <tr>\n",
       "      <th>2</th>\n",
       "      <td>937</td>\n",
       "      <td>542565</td>\n",
       "      <td>203236126</td>\n",
       "      <td>first</td>\n",
       "      <td>5063768457</td>\n",
       "      <td>Hugo Segawa</td>\n",
       "      <td>0</td>\n",
       "      <td>17974374</td>\n",
       "      <td>Universidade de São Paulo</td>\n",
       "      <td>BR</td>\n",
       "      <td>True</td>\n",
       "      <td>2012</td>\n",
       "      <td>1</td>\n",
       "      <td>1</td>\n",
       "    </tr>\n",
       "    <tr>\n",
       "      <th>3</th>\n",
       "      <td>1354</td>\n",
       "      <td>810942</td>\n",
       "      <td>200784480</td>\n",
       "      <td>middle</td>\n",
       "      <td>5020771058</td>\n",
       "      <td>John Soldera</td>\n",
       "      <td>0</td>\n",
       "      <td>130442723</td>\n",
       "      <td>Universidade Federal do Rio Grande do Sul</td>\n",
       "      <td>BR</td>\n",
       "      <td>False</td>\n",
       "      <td>2014</td>\n",
       "      <td>3</td>\n",
       "      <td>3</td>\n",
       "    </tr>\n",
       "    <tr>\n",
       "      <th>4</th>\n",
       "      <td>1355</td>\n",
       "      <td>810944</td>\n",
       "      <td>200784480</td>\n",
       "      <td>last</td>\n",
       "      <td>5059279422</td>\n",
       "      <td>Jacob Scharcanski</td>\n",
       "      <td>0</td>\n",
       "      <td>130442723</td>\n",
       "      <td>Universidade Federal do Rio Grande do Sul</td>\n",
       "      <td>BR</td>\n",
       "      <td>True</td>\n",
       "      <td>2014</td>\n",
       "      <td>3</td>\n",
       "      <td>3</td>\n",
       "    </tr>\n",
       "  </tbody>\n",
       "</table>\n",
       "</div>"
      ],
      "text/plain": [
       "   Unnamed: 0.1  Unnamed: 0    work_id author_position   author_id  \\\n",
       "0           174     1632607  206370407           first  5027925855   \n",
       "1           529     1508716  222095242           first  5004541578   \n",
       "2           937      542565  203236126           first  5063768457   \n",
       "3          1354      810942  200784480          middle  5020771058   \n",
       "4          1355      810944  200784480            last  5059279422   \n",
       "\n",
       "             author_name  institution_lineage_level  institution_id  \\\n",
       "0  Eduardo André Perondi                          0      4210126369   \n",
       "1                Reis Lc                          0       879563668   \n",
       "2            Hugo Segawa                          0        17974374   \n",
       "3           John Soldera                          0       130442723   \n",
       "4      Jacob Scharcanski                          0       130442723   \n",
       "\n",
       "                                    institution_name country_code  \\\n",
       "0  Polydoro Ernani de São Thiago University Hospital           BR   \n",
       "1             Universidade Estadual Paulista (Unesp)           BR   \n",
       "2                          Universidade de São Paulo           BR   \n",
       "3          Universidade Federal do Rio Grande do Sul           BR   \n",
       "4          Universidade Federal do Rio Grande do Sul           BR   \n",
       "\n",
       "   is_corresponding  publication_year  work_publication_year  \\\n",
       "0              True              2007                     32   \n",
       "1             False              1996                      1   \n",
       "2              True              2012                      1   \n",
       "3             False              2014                      3   \n",
       "4              True              2014                      3   \n",
       "\n",
       "   referenced_work_publication_year  \n",
       "0                                32  \n",
       "1                                 1  \n",
       "2                                 1  \n",
       "3                                 3  \n",
       "4                                 3  "
      ]
     },
     "execution_count": 18,
     "metadata": {},
     "output_type": "execute_result"
    }
   ],
   "source": [
    "works_br_with_cits.head()"
   ]
  },
  {
   "cell_type": "code",
   "execution_count": null,
   "id": "f5ff4a46-f992-44cb-aa78-8e1d6b47df51",
   "metadata": {},
   "outputs": [],
   "source": [
    "works_br_with_cits = works_br_with_cits.drop(['Unnamed: 0.1', 'Unnamed: 0', 'work_publication_year'], axis=1)"
   ]
  },
  {
   "cell_type": "code",
   "execution_count": 22,
   "id": "6cc82984-442f-47fa-abdd-43f9dde6bf29",
   "metadata": {
    "execution": {
     "iopub.execute_input": "2024-06-03T19:36:54.766712Z",
     "iopub.status.busy": "2024-06-03T19:36:54.766301Z",
     "iopub.status.idle": "2024-06-03T19:36:54.822739Z",
     "shell.execute_reply": "2024-06-03T19:36:54.822104Z",
     "shell.execute_reply.started": "2024-06-03T19:36:54.766691Z"
    }
   },
   "outputs": [
    {
     "data": {
      "text/html": [
       "<div>\n",
       "<style scoped>\n",
       "    .dataframe tbody tr th:only-of-type {\n",
       "        vertical-align: middle;\n",
       "    }\n",
       "\n",
       "    .dataframe tbody tr th {\n",
       "        vertical-align: top;\n",
       "    }\n",
       "\n",
       "    .dataframe thead th {\n",
       "        text-align: right;\n",
       "    }\n",
       "</style>\n",
       "<table border=\"1\" class=\"dataframe\">\n",
       "  <thead>\n",
       "    <tr style=\"text-align: right;\">\n",
       "      <th></th>\n",
       "      <th>work_id</th>\n",
       "      <th>author_position</th>\n",
       "      <th>author_id</th>\n",
       "      <th>author_name</th>\n",
       "      <th>institution_lineage_level</th>\n",
       "      <th>institution_id</th>\n",
       "      <th>institution_name</th>\n",
       "      <th>country_code</th>\n",
       "      <th>is_corresponding</th>\n",
       "      <th>publication_year</th>\n",
       "      <th>citations</th>\n",
       "    </tr>\n",
       "  </thead>\n",
       "  <tbody>\n",
       "    <tr>\n",
       "      <th>0</th>\n",
       "      <td>206370407</td>\n",
       "      <td>first</td>\n",
       "      <td>5027925855</td>\n",
       "      <td>Eduardo André Perondi</td>\n",
       "      <td>0</td>\n",
       "      <td>4210126369</td>\n",
       "      <td>Polydoro Ernani de São Thiago University Hospital</td>\n",
       "      <td>BR</td>\n",
       "      <td>True</td>\n",
       "      <td>2007</td>\n",
       "      <td>32</td>\n",
       "    </tr>\n",
       "    <tr>\n",
       "      <th>1</th>\n",
       "      <td>222095242</td>\n",
       "      <td>first</td>\n",
       "      <td>5004541578</td>\n",
       "      <td>Reis Lc</td>\n",
       "      <td>0</td>\n",
       "      <td>879563668</td>\n",
       "      <td>Universidade Estadual Paulista (Unesp)</td>\n",
       "      <td>BR</td>\n",
       "      <td>False</td>\n",
       "      <td>1996</td>\n",
       "      <td>1</td>\n",
       "    </tr>\n",
       "    <tr>\n",
       "      <th>2</th>\n",
       "      <td>203236126</td>\n",
       "      <td>first</td>\n",
       "      <td>5063768457</td>\n",
       "      <td>Hugo Segawa</td>\n",
       "      <td>0</td>\n",
       "      <td>17974374</td>\n",
       "      <td>Universidade de São Paulo</td>\n",
       "      <td>BR</td>\n",
       "      <td>True</td>\n",
       "      <td>2012</td>\n",
       "      <td>1</td>\n",
       "    </tr>\n",
       "    <tr>\n",
       "      <th>3</th>\n",
       "      <td>200784480</td>\n",
       "      <td>middle</td>\n",
       "      <td>5020771058</td>\n",
       "      <td>John Soldera</td>\n",
       "      <td>0</td>\n",
       "      <td>130442723</td>\n",
       "      <td>Universidade Federal do Rio Grande do Sul</td>\n",
       "      <td>BR</td>\n",
       "      <td>False</td>\n",
       "      <td>2014</td>\n",
       "      <td>3</td>\n",
       "    </tr>\n",
       "    <tr>\n",
       "      <th>4</th>\n",
       "      <td>200784480</td>\n",
       "      <td>last</td>\n",
       "      <td>5059279422</td>\n",
       "      <td>Jacob Scharcanski</td>\n",
       "      <td>0</td>\n",
       "      <td>130442723</td>\n",
       "      <td>Universidade Federal do Rio Grande do Sul</td>\n",
       "      <td>BR</td>\n",
       "      <td>True</td>\n",
       "      <td>2014</td>\n",
       "      <td>3</td>\n",
       "    </tr>\n",
       "  </tbody>\n",
       "</table>\n",
       "</div>"
      ],
      "text/plain": [
       "     work_id author_position   author_id            author_name  \\\n",
       "0  206370407           first  5027925855  Eduardo André Perondi   \n",
       "1  222095242           first  5004541578                Reis Lc   \n",
       "2  203236126           first  5063768457            Hugo Segawa   \n",
       "3  200784480          middle  5020771058           John Soldera   \n",
       "4  200784480            last  5059279422      Jacob Scharcanski   \n",
       "\n",
       "   institution_lineage_level  institution_id  \\\n",
       "0                          0      4210126369   \n",
       "1                          0       879563668   \n",
       "2                          0        17974374   \n",
       "3                          0       130442723   \n",
       "4                          0       130442723   \n",
       "\n",
       "                                    institution_name country_code  \\\n",
       "0  Polydoro Ernani de São Thiago University Hospital           BR   \n",
       "1             Universidade Estadual Paulista (Unesp)           BR   \n",
       "2                          Universidade de São Paulo           BR   \n",
       "3          Universidade Federal do Rio Grande do Sul           BR   \n",
       "4          Universidade Federal do Rio Grande do Sul           BR   \n",
       "\n",
       "   is_corresponding  publication_year  citations  \n",
       "0              True              2007         32  \n",
       "1             False              1996          1  \n",
       "2              True              2012          1  \n",
       "3             False              2014          3  \n",
       "4              True              2014          3  "
      ]
     },
     "execution_count": 22,
     "metadata": {},
     "output_type": "execute_result"
    }
   ],
   "source": [
    "works_br_with_cits = works_br_with_cits.rename(columns={'referenced_work_publication_year': 'citations'})\n",
    "works_br_with_cits.head()"
   ]
  },
  {
   "cell_type": "code",
   "execution_count": null,
   "id": "413a995c-79da-40dd-b672-96ae0e557712",
   "metadata": {},
   "outputs": [],
   "source": [
    "# salvar esse dataframe com works e citações\n",
    "# verificar o que é referenced_work_id se é a contagem de citações"
   ]
  },
  {
   "cell_type": "code",
   "execution_count": 23,
   "id": "0f8e5006-5fdf-43fa-9f6a-4b06a65c8178",
   "metadata": {
    "execution": {
     "iopub.execute_input": "2024-06-03T19:37:09.985299Z",
     "iopub.status.busy": "2024-06-03T19:37:09.985012Z",
     "iopub.status.idle": "2024-06-03T19:37:10.120389Z",
     "shell.execute_reply": "2024-06-03T19:37:10.119558Z",
     "shell.execute_reply.started": "2024-06-03T19:37:09.985281Z"
    }
   },
   "outputs": [],
   "source": [
    "top_cit = works_br_with_cits[works_br_with_cits['citations'] >= 30]"
   ]
  },
  {
   "cell_type": "code",
   "execution_count": 24,
   "id": "b25abee8-3e03-41b8-9bf1-36ba086db069",
   "metadata": {
    "execution": {
     "iopub.execute_input": "2024-06-03T19:37:38.494328Z",
     "iopub.status.busy": "2024-06-03T19:37:38.494036Z",
     "iopub.status.idle": "2024-06-03T19:37:41.679660Z",
     "shell.execute_reply": "2024-06-03T19:37:41.679100Z",
     "shell.execute_reply.started": "2024-06-03T19:37:38.494311Z"
    }
   },
   "outputs": [],
   "source": [
    "top_cit.to_csv('top_cit_30')"
   ]
  },
  {
   "cell_type": "code",
   "execution_count": null,
   "id": "3df283a0-ba0a-4494-80b4-07678604fe4d",
   "metadata": {},
   "outputs": [],
   "source": []
  },
  {
   "cell_type": "code",
   "execution_count": 26,
   "id": "358afe58-0e06-4cd1-ab79-50cc9510216b",
   "metadata": {
    "execution": {
     "iopub.execute_input": "2024-06-03T19:38:25.370369Z",
     "iopub.status.busy": "2024-06-03T19:38:25.370118Z",
     "iopub.status.idle": "2024-06-03T19:39:09.993580Z",
     "shell.execute_reply": "2024-06-03T19:39:09.991491Z",
     "shell.execute_reply.started": "2024-06-03T19:38:25.370352Z"
    }
   },
   "outputs": [
    {
     "data": {
      "text/html": [
       "<div>\n",
       "<style scoped>\n",
       "    .dataframe tbody tr th:only-of-type {\n",
       "        vertical-align: middle;\n",
       "    }\n",
       "\n",
       "    .dataframe tbody tr th {\n",
       "        vertical-align: top;\n",
       "    }\n",
       "\n",
       "    .dataframe thead th {\n",
       "        text-align: right;\n",
       "    }\n",
       "</style>\n",
       "<table border=\"1\" class=\"dataframe\">\n",
       "  <thead>\n",
       "    <tr style=\"text-align: right;\">\n",
       "      <th></th>\n",
       "      <th>0</th>\n",
       "      <th>1</th>\n",
       "      <th>2</th>\n",
       "      <th>3</th>\n",
       "    </tr>\n",
       "  </thead>\n",
       "  <tbody>\n",
       "    <tr>\n",
       "      <th>0</th>\n",
       "      <td>284616</td>\n",
       "      <td>132</td>\n",
       "      <td>[5081043379, 5057915879, 5078603326, 501800369...</td>\n",
       "      <td>[Hans Fröder, Cristian Marlon de Magalhães Rod...</td>\n",
       "    </tr>\n",
       "    <tr>\n",
       "      <th>1</th>\n",
       "      <td>481872</td>\n",
       "      <td>40</td>\n",
       "      <td>[5058721203]</td>\n",
       "      <td>[Jesus Djalma Pécora]</td>\n",
       "    </tr>\n",
       "    <tr>\n",
       "      <th>2</th>\n",
       "      <td>670328</td>\n",
       "      <td>43</td>\n",
       "      <td>[5071324973, 5066522889]</td>\n",
       "      <td>[Milene Heloisa Martins, Marco-Aurélio De Paoli]</td>\n",
       "    </tr>\n",
       "    <tr>\n",
       "      <th>3</th>\n",
       "      <td>825380</td>\n",
       "      <td>39</td>\n",
       "      <td>[5075552930, 5078083909]</td>\n",
       "      <td>[Sezimária de Fátima Pereira Saramago, Valder ...</td>\n",
       "    </tr>\n",
       "    <tr>\n",
       "      <th>4</th>\n",
       "      <td>1169959</td>\n",
       "      <td>37</td>\n",
       "      <td>[5006424755]</td>\n",
       "      <td>[Volker Bittrich]</td>\n",
       "    </tr>\n",
       "  </tbody>\n",
       "</table>\n",
       "</div>"
      ],
      "text/plain": [
       "         0    1                                                  2  \\\n",
       "0   284616  132  [5081043379, 5057915879, 5078603326, 501800369...   \n",
       "1   481872   40                                       [5058721203]   \n",
       "2   670328   43                           [5071324973, 5066522889]   \n",
       "3   825380   39                           [5075552930, 5078083909]   \n",
       "4  1169959   37                                       [5006424755]   \n",
       "\n",
       "                                                   3  \n",
       "0  [Hans Fröder, Cristian Marlon de Magalhães Rod...  \n",
       "1                              [Jesus Djalma Pécora]  \n",
       "2   [Milene Heloisa Martins, Marco-Aurélio De Paoli]  \n",
       "3  [Sezimária de Fátima Pereira Saramago, Valder ...  \n",
       "4                                  [Volker Bittrich]  "
      ]
     },
     "execution_count": 26,
     "metadata": {},
     "output_type": "execute_result"
    }
   ],
   "source": [
    "top_cit_list = []\n",
    "for work_id, infos in top_cit.groupby('work_id'):\n",
    "    row = [work_id]\n",
    "    row.append(infos.iloc[0]['citations'])\n",
    "    row.append(list(infos['author_id']))\n",
    "    row.append(list(infos['author_name']))\n",
    "    top_cit_list.append(row)\n",
    "\n",
    "top_cit_pd = pd.DataFrame(top_cit_list)\n",
    "top_cit_pd.head()"
   ]
  },
  {
   "cell_type": "code",
   "execution_count": 27,
   "id": "c191c5f9-be0b-4db2-a3fa-391e2b611be0",
   "metadata": {
    "execution": {
     "iopub.execute_input": "2024-06-03T19:39:09.994943Z",
     "iopub.status.busy": "2024-06-03T19:39:09.994742Z",
     "iopub.status.idle": "2024-06-03T19:39:09.998594Z",
     "shell.execute_reply": "2024-06-03T19:39:09.998043Z",
     "shell.execute_reply.started": "2024-06-03T19:39:09.994924Z"
    }
   },
   "outputs": [],
   "source": [
    "top_cit_pd.columns = ['work_id', 'citations', 'authors_id', 'authors_name']"
   ]
  },
  {
   "cell_type": "code",
   "execution_count": 28,
   "id": "3acae4a5-c599-4b63-b8e4-5c8d43e17832",
   "metadata": {
    "execution": {
     "iopub.execute_input": "2024-06-03T19:39:36.404512Z",
     "iopub.status.busy": "2024-06-03T19:39:36.404201Z",
     "iopub.status.idle": "2024-06-03T19:39:36.408443Z",
     "shell.execute_reply": "2024-06-03T19:39:36.407903Z",
     "shell.execute_reply.started": "2024-06-03T19:39:36.404491Z"
    }
   },
   "outputs": [
    {
     "data": {
      "text/plain": [
       "171444"
      ]
     },
     "execution_count": 28,
     "metadata": {},
     "output_type": "execute_result"
    }
   ],
   "source": [
    "len(top_cit_pd) # total de artigos com 30 ou mais citações de autores brasileiros"
   ]
  },
  {
   "cell_type": "code",
   "execution_count": 29,
   "id": "42c38545-d7cf-4c55-8828-7d2a48ee9c28",
   "metadata": {
    "execution": {
     "iopub.execute_input": "2024-06-03T19:39:40.663171Z",
     "iopub.status.busy": "2024-06-03T19:39:40.662825Z",
     "iopub.status.idle": "2024-06-03T19:39:42.293344Z",
     "shell.execute_reply": "2024-06-03T19:39:42.292625Z",
     "shell.execute_reply.started": "2024-06-03T19:39:40.663151Z"
    }
   },
   "outputs": [],
   "source": [
    "top_cit_pd = top_cit_pd.sort_values('citations', ascending=False)\n",
    "top_cit_pd.to_csv('works_br_ascending_cit_ge30')"
   ]
  },
  {
   "cell_type": "code",
   "execution_count": 4,
   "id": "0534b29c-0fe7-41da-8fa3-348a41de878a",
   "metadata": {
    "execution": {
     "iopub.execute_input": "2024-07-18T18:27:06.010849Z",
     "iopub.status.busy": "2024-07-18T18:27:06.010651Z",
     "iopub.status.idle": "2024-07-18T18:27:07.161174Z",
     "shell.execute_reply": "2024-07-18T18:27:07.160695Z",
     "shell.execute_reply.started": "2024-07-18T18:27:06.010835Z"
    }
   },
   "outputs": [],
   "source": [
    "top_cit_pd = pd.read_csv('works_br_ascending_cit_ge30')"
   ]
  },
  {
   "cell_type": "code",
   "execution_count": 5,
   "id": "5ad66478-1fc1-4df0-872b-863b33882a56",
   "metadata": {
    "execution": {
     "iopub.execute_input": "2024-07-18T18:27:21.780050Z",
     "iopub.status.busy": "2024-07-18T18:27:21.779721Z",
     "iopub.status.idle": "2024-07-18T18:27:21.785792Z",
     "shell.execute_reply": "2024-07-18T18:27:21.785457Z",
     "shell.execute_reply.started": "2024-07-18T18:27:21.780023Z"
    }
   },
   "outputs": [
    {
     "data": {
      "text/plain": [
       "171444"
      ]
     },
     "execution_count": 5,
     "metadata": {},
     "output_type": "execute_result"
    }
   ],
   "source": [
    "len(top_cit_pd)"
   ]
  },
  {
   "cell_type": "code",
   "execution_count": 6,
   "id": "71e9b9f2-b3e3-4699-8e4d-737537bb6322",
   "metadata": {
    "execution": {
     "iopub.execute_input": "2024-07-18T18:27:56.744067Z",
     "iopub.status.busy": "2024-07-18T18:27:56.742604Z",
     "iopub.status.idle": "2024-07-18T18:27:57.069267Z",
     "shell.execute_reply": "2024-07-18T18:27:57.068451Z",
     "shell.execute_reply.started": "2024-07-18T18:27:56.744047Z"
    }
   },
   "outputs": [
    {
     "data": {
      "text/html": [
       "<div>\n",
       "<style scoped>\n",
       "    .dataframe tbody tr th:only-of-type {\n",
       "        vertical-align: middle;\n",
       "    }\n",
       "\n",
       "    .dataframe tbody tr th {\n",
       "        vertical-align: top;\n",
       "    }\n",
       "\n",
       "    .dataframe thead th {\n",
       "        text-align: right;\n",
       "    }\n",
       "</style>\n",
       "<table border=\"1\" class=\"dataframe\">\n",
       "  <thead>\n",
       "    <tr style=\"text-align: right;\">\n",
       "      <th></th>\n",
       "      <th>Unnamed: 0</th>\n",
       "      <th>work_id</th>\n",
       "      <th>citations</th>\n",
       "      <th>authors_id</th>\n",
       "      <th>authors_name</th>\n",
       "    </tr>\n",
       "  </thead>\n",
       "  <tbody>\n",
       "    <tr>\n",
       "      <th>0</th>\n",
       "      <td>6524</td>\n",
       "      <td>1757407923</td>\n",
       "      <td>22790</td>\n",
       "      <td>[5045986275]</td>\n",
       "      <td>['Marise Souto Rebelo']</td>\n",
       "    </tr>\n",
       "    <tr>\n",
       "      <th>1</th>\n",
       "      <td>154753</td>\n",
       "      <td>2909240409</td>\n",
       "      <td>6474</td>\n",
       "      <td>[5021679179, 5049857343, 5057251977, 5057251977]</td>\n",
       "      <td>['Aldenor Gomes Santos', 'Gisele O. da Rocha',...</td>\n",
       "    </tr>\n",
       "    <tr>\n",
       "      <th>2</th>\n",
       "      <td>114059</td>\n",
       "      <td>2149507322</td>\n",
       "      <td>6196</td>\n",
       "      <td>[5064307656]</td>\n",
       "      <td>['Marinez Ferreira de Siqueira']</td>\n",
       "    </tr>\n",
       "    <tr>\n",
       "      <th>3</th>\n",
       "      <td>49252</td>\n",
       "      <td>2027545702</td>\n",
       "      <td>5941</td>\n",
       "      <td>[5071538514]</td>\n",
       "      <td>['Fernando Lopes Gonçales']</td>\n",
       "    </tr>\n",
       "    <tr>\n",
       "      <th>4</th>\n",
       "      <td>143581</td>\n",
       "      <td>2748400555</td>\n",
       "      <td>5792</td>\n",
       "      <td>[5030391700, 5010466306, 5045516086]</td>\n",
       "      <td>['Francisco Antônio Helfenstein Fonseca', 'Jos...</td>\n",
       "    </tr>\n",
       "  </tbody>\n",
       "</table>\n",
       "</div>"
      ],
      "text/plain": [
       "   Unnamed: 0     work_id  citations  \\\n",
       "0        6524  1757407923      22790   \n",
       "1      154753  2909240409       6474   \n",
       "2      114059  2149507322       6196   \n",
       "3       49252  2027545702       5941   \n",
       "4      143581  2748400555       5792   \n",
       "\n",
       "                                         authors_id  \\\n",
       "0                                      [5045986275]   \n",
       "1  [5021679179, 5049857343, 5057251977, 5057251977]   \n",
       "2                                      [5064307656]   \n",
       "3                                      [5071538514]   \n",
       "4              [5030391700, 5010466306, 5045516086]   \n",
       "\n",
       "                                        authors_name  \n",
       "0                            ['Marise Souto Rebelo']  \n",
       "1  ['Aldenor Gomes Santos', 'Gisele O. da Rocha',...  \n",
       "2                   ['Marinez Ferreira de Siqueira']  \n",
       "3                        ['Fernando Lopes Gonçales']  \n",
       "4  ['Francisco Antônio Helfenstein Fonseca', 'Jos...  "
      ]
     },
     "execution_count": 6,
     "metadata": {},
     "output_type": "execute_result"
    }
   ],
   "source": [
    "top_cit_pd.head()"
   ]
  },
  {
   "cell_type": "code",
   "execution_count": 8,
   "id": "03fbdb27-01ff-434a-9563-5efd378e8e91",
   "metadata": {
    "execution": {
     "iopub.execute_input": "2024-07-18T02:41:17.054971Z",
     "iopub.status.busy": "2024-07-18T02:41:17.054819Z",
     "iopub.status.idle": "2024-07-18T02:41:17.057577Z",
     "shell.execute_reply": "2024-07-18T02:41:17.057111Z",
     "shell.execute_reply.started": "2024-07-18T02:41:17.054957Z"
    }
   },
   "outputs": [],
   "source": [
    "top4000 = top_cit_pd.head(40)"
   ]
  },
  {
   "cell_type": "code",
   "execution_count": 9,
   "id": "7677beb5-a19c-49df-a4c6-690b5867e045",
   "metadata": {
    "execution": {
     "iopub.execute_input": "2024-07-18T02:41:19.666823Z",
     "iopub.status.busy": "2024-07-18T02:41:19.666200Z",
     "iopub.status.idle": "2024-07-18T02:41:19.672961Z",
     "shell.execute_reply": "2024-07-18T02:41:19.672474Z",
     "shell.execute_reply.started": "2024-07-18T02:41:19.666803Z"
    }
   },
   "outputs": [
    {
     "data": {
      "text/html": [
       "<div>\n",
       "<style scoped>\n",
       "    .dataframe tbody tr th:only-of-type {\n",
       "        vertical-align: middle;\n",
       "    }\n",
       "\n",
       "    .dataframe tbody tr th {\n",
       "        vertical-align: top;\n",
       "    }\n",
       "\n",
       "    .dataframe thead th {\n",
       "        text-align: right;\n",
       "    }\n",
       "</style>\n",
       "<table border=\"1\" class=\"dataframe\">\n",
       "  <thead>\n",
       "    <tr style=\"text-align: right;\">\n",
       "      <th></th>\n",
       "      <th>Unnamed: 0</th>\n",
       "      <th>work_id</th>\n",
       "      <th>citations</th>\n",
       "      <th>authors_id</th>\n",
       "      <th>authors_name</th>\n",
       "    </tr>\n",
       "  </thead>\n",
       "  <tbody>\n",
       "    <tr>\n",
       "      <th>0</th>\n",
       "      <td>6524</td>\n",
       "      <td>1757407923</td>\n",
       "      <td>22790</td>\n",
       "      <td>[5045986275]</td>\n",
       "      <td>['Marise Souto Rebelo']</td>\n",
       "    </tr>\n",
       "    <tr>\n",
       "      <th>1</th>\n",
       "      <td>154753</td>\n",
       "      <td>2909240409</td>\n",
       "      <td>6474</td>\n",
       "      <td>[5021679179, 5049857343, 5057251977, 5057251977]</td>\n",
       "      <td>['Aldenor Gomes Santos', 'Gisele O. da Rocha',...</td>\n",
       "    </tr>\n",
       "    <tr>\n",
       "      <th>2</th>\n",
       "      <td>114059</td>\n",
       "      <td>2149507322</td>\n",
       "      <td>6196</td>\n",
       "      <td>[5064307656]</td>\n",
       "      <td>['Marinez Ferreira de Siqueira']</td>\n",
       "    </tr>\n",
       "    <tr>\n",
       "      <th>3</th>\n",
       "      <td>49252</td>\n",
       "      <td>2027545702</td>\n",
       "      <td>5941</td>\n",
       "      <td>[5071538514]</td>\n",
       "      <td>['Fernando Lopes Gonçales']</td>\n",
       "    </tr>\n",
       "    <tr>\n",
       "      <th>4</th>\n",
       "      <td>143581</td>\n",
       "      <td>2748400555</td>\n",
       "      <td>5792</td>\n",
       "      <td>[5030391700, 5010466306, 5045516086]</td>\n",
       "      <td>['Francisco Antônio Helfenstein Fonseca', 'Jos...</td>\n",
       "    </tr>\n",
       "  </tbody>\n",
       "</table>\n",
       "</div>"
      ],
      "text/plain": [
       "   Unnamed: 0     work_id  citations  \\\n",
       "0        6524  1757407923      22790   \n",
       "1      154753  2909240409       6474   \n",
       "2      114059  2149507322       6196   \n",
       "3       49252  2027545702       5941   \n",
       "4      143581  2748400555       5792   \n",
       "\n",
       "                                         authors_id  \\\n",
       "0                                      [5045986275]   \n",
       "1  [5021679179, 5049857343, 5057251977, 5057251977]   \n",
       "2                                      [5064307656]   \n",
       "3                                      [5071538514]   \n",
       "4              [5030391700, 5010466306, 5045516086]   \n",
       "\n",
       "                                        authors_name  \n",
       "0                            ['Marise Souto Rebelo']  \n",
       "1  ['Aldenor Gomes Santos', 'Gisele O. da Rocha',...  \n",
       "2                   ['Marinez Ferreira de Siqueira']  \n",
       "3                        ['Fernando Lopes Gonçales']  \n",
       "4  ['Francisco Antônio Helfenstein Fonseca', 'Jos...  "
      ]
     },
     "execution_count": 9,
     "metadata": {},
     "output_type": "execute_result"
    }
   ],
   "source": [
    "top4000.head()"
   ]
  },
  {
   "cell_type": "code",
   "execution_count": 7,
   "id": "df2caa47-d70a-4ee5-9886-c762db972244",
   "metadata": {
    "execution": {
     "iopub.execute_input": "2024-07-15T11:46:29.715611Z",
     "iopub.status.busy": "2024-07-15T11:46:29.715128Z",
     "iopub.status.idle": "2024-07-15T11:46:29.718041Z",
     "shell.execute_reply": "2024-07-15T11:46:29.717620Z",
     "shell.execute_reply.started": "2024-07-15T11:46:29.715589Z"
    }
   },
   "outputs": [],
   "source": [
    "# disruption index\n",
    "# authors_br = set(top_cit[top_cit['work_id'].isin(top4000['work_id'].values)]['author_id'].values)\n",
    "# valid_works = dd.read_csv('works_valid_country', sep='\\t')\n",
    "\n",
    "# all_works_from_authors_br = valid_works[valid_works['author_id'].isin(authors_br)].compute()"
   ]
  },
  {
   "cell_type": "code",
   "execution_count": 8,
   "id": "025bcb36-b7a6-4918-a942-7664698e3155",
   "metadata": {
    "execution": {
     "iopub.execute_input": "2024-07-15T11:46:30.141587Z",
     "iopub.status.busy": "2024-07-15T11:46:30.141269Z",
     "iopub.status.idle": "2024-07-15T11:46:30.143503Z",
     "shell.execute_reply": "2024-07-15T11:46:30.143129Z",
     "shell.execute_reply.started": "2024-07-15T11:46:30.141573Z"
    }
   },
   "outputs": [],
   "source": [
    "# all_works_from_authors_br.to_csv('all_works_from_authors_br_top4000')"
   ]
  },
  {
   "cell_type": "code",
   "execution_count": 10,
   "id": "890db36b-d8f2-4f84-9855-bcb3df14e732",
   "metadata": {
    "execution": {
     "iopub.execute_input": "2024-07-18T02:41:24.626708Z",
     "iopub.status.busy": "2024-07-18T02:41:24.626488Z",
     "iopub.status.idle": "2024-07-18T02:41:28.038958Z",
     "shell.execute_reply": "2024-07-18T02:41:28.038418Z",
     "shell.execute_reply.started": "2024-07-18T02:41:24.626694Z"
    }
   },
   "outputs": [
    {
     "data": {
      "text/html": [
       "<pre style=\"white-space:pre;overflow-x:auto;line-height:normal;font-family:Menlo,'DejaVu Sans Mono',consolas,'Courier New',monospace\">Using PyArrow strings!\n",
       "</pre>\n"
      ],
      "text/plain": [
       "Using PyArrow strings!\n"
      ]
     },
     "metadata": {},
     "output_type": "display_data"
    }
   ],
   "source": [
    "import pandas as pd \n",
    "from pathlib import Path\n",
    "from tqdm.auto import tqdm\n",
    "import time\n",
    "import textwrap \n",
    "from rich import print\n",
    "import pyarrow.parquet as pypq\n",
    "\n",
    "if pd.__version__ >= '2.1':\n",
    "  print('Using PyArrow strings!')\n",
    "  pd.options.future.infer_string = True\n",
    "\n",
    "def peek_parquet(path):\n",
    "    \"\"\"\n",
    "    peeks at a parquet file (or a directory containing parquet files) and prints the following:\n",
    "    * Path\n",
    "    * schema\n",
    "    * number of pieces (fragments)\n",
    "    * number of rows \n",
    "    \"\"\"\n",
    "    if isinstance(path, str):\n",
    "        path = Path(path)\n",
    "        \n",
    "    parq_file = pypq.ParquetDataset(path)\n",
    "    piece_count = len(parq_file.fragments)\n",
    "    schema = textwrap.indent(parq_file.schema.to_string(), ' '*4)\n",
    "    row_count = sum(frag.count_rows() for frag in parq_file.fragments)\n",
    "    \n",
    "    st = [\n",
    "        f'Name: {path.stem!r}',  \n",
    "        f'Path: {str(path)!r}',\n",
    "        f'Files: {piece_count:,}',\n",
    "        f'Rows: {row_count:,}',\n",
    "        f'Schema:\\n{schema}',\n",
    "        f'5 random rows:',\n",
    "    ]\n",
    "    print('\\n'.join(st))\n",
    "    sample_df = parq_file.fragments[0].head(5).to_pandas()  # read 5 rows from the first fragment\n",
    "    display(sample_df)\n",
    "\n",
    "    return\n",
    "\n",
    "def read_parquet(path, engine='pyarrow', convert_dtypes=True, **args):\n",
    "    \"\"\"\n",
    "    Read a parquet file\n",
    "    \"\"\"\n",
    "    if isinstance(path, str):\n",
    "        path = Path(path)\n",
    "\n",
    "    if 'filters' in args:\n",
    "        engine = 'pyarrow'\n",
    "    \n",
    "    if not path.name.endswith('.parquet'):\n",
    "        ## check if a file exists without the extension \n",
    "        dir_exists = path.exists()\n",
    "        if not dir_exists:  # try adding the parquet extension\n",
    "            if path.with_suffix('.parquet').exists():\n",
    "                path = path.with_suffix('.parquet')\n",
    "                \n",
    "    name = path.stem\n",
    "        \n",
    "    print(f'\\nReading {name!r} from {str(path)!r} using {engine=}')\n",
    "\n",
    "    tic = time.time()\n",
    "    df = pd.read_parquet(path, engine=engine, **args)\n",
    "    toc = time.time()\n",
    "    print(f'Read {len(df):,} rows from {path.stem!r} in {toc-tic:.2f} sec.')\n",
    "    \n",
    "    if convert_dtypes:\n",
    "        tic = time.time()\n",
    "        size_before = df.memory_usage(deep=True).sum() / 1024 / 1024 / 1024\n",
    "\n",
    "        string_cols_d = {}\n",
    "        # string_type = 'string[python]'\n",
    "        string_type = 'string[pyarrow]'\n",
    "        for col, dtype in df.dtypes.to_dict().items():\n",
    "            if pd.__version__ <= '2.1':\n",
    "              if dtype == 'object' or dtype == 'string':  # convert object columns to string\n",
    "                  string_cols_d[col] = string_type\n",
    "            if col == 'type' or col == 'concept_name':\n",
    "                if dtype != 'category':\n",
    "                    string_cols_d[col] = 'category'\n",
    "            if col == 'publication_month':\n",
    "                if dtype != 'uint8':\n",
    "                    string_cols_d[col] = 'uint8'\n",
    "            if col == 'score':\n",
    "                if dtype != 'float16':\n",
    "                    string_cols_d[col] = 'float16'\n",
    "                \n",
    "        df = df.astype(string_cols_d) \n",
    "        \n",
    "        size_after = df.memory_usage(deep=True).sum() / 1024 / 1024 / 1024\n",
    "        toc = time.time()\n",
    "        print(f'Converting dtypes took {toc-tic:.2f} sec. Size before: {size_before:.2f}GB, after: {size_after:.2f}GB')\n",
    "    display(df.head(3))\n",
    "    return df\n",
    "    "
   ]
  },
  {
   "cell_type": "code",
   "execution_count": 11,
   "id": "ef912e42-909e-4e8a-bb40-5184e2e05e0e",
   "metadata": {
    "execution": {
     "iopub.execute_input": "2024-07-18T02:41:28.040100Z",
     "iopub.status.busy": "2024-07-18T02:41:28.039950Z",
     "iopub.status.idle": "2024-07-18T02:41:34.894043Z",
     "shell.execute_reply": "2024-07-18T02:41:34.893481Z",
     "shell.execute_reply.started": "2024-07-18T02:41:28.040085Z"
    }
   },
   "outputs": [
    {
     "data": {
      "text/html": [
       "<pre style=\"white-space:pre;overflow-x:auto;line-height:normal;font-family:Menlo,'DejaVu Sans Mono',consolas,'Courier New',monospace\">Name: <span style=\"color: #008000; text-decoration-color: #008000\">'works'</span>\n",
       "Path: <span style=\"color: #008000; text-decoration-color: #008000\">'/N/project/openalex/slices/subset-1990-2022/dec-2023/works'</span>\n",
       "Files: <span style=\"color: #008080; text-decoration-color: #008080; font-weight: bold\">150</span>\n",
       "Rows: <span style=\"color: #008080; text-decoration-color: #008080; font-weight: bold\">186</span>,<span style=\"color: #008080; text-decoration-color: #008080; font-weight: bold\">789</span>,<span style=\"color: #008080; text-decoration-color: #008080; font-weight: bold\">669</span>\n",
       "Schema:\n",
       "    doi: string\n",
       "    title: string\n",
       "    publication_year: int16\n",
       "    publication_date: timestamp\n",
       "    type: dictionary<span style=\"font-weight: bold\">&lt;</span><span style=\"color: #808000; text-decoration-color: #808000; font-weight: bold\">values</span><span style=\"color: #000000; text-decoration-color: #000000\">=</span><span style=\"color: #800080; text-decoration-color: #800080\">string</span><span style=\"color: #000000; text-decoration-color: #000000\">, </span><span style=\"color: #808000; text-decoration-color: #808000\">indices</span><span style=\"color: #000000; text-decoration-color: #000000\">=</span><span style=\"color: #800080; text-decoration-color: #800080\">int32</span><span style=\"color: #000000; text-decoration-color: #000000\">, </span><span style=\"color: #808000; text-decoration-color: #808000\">ordered</span><span style=\"color: #000000; text-decoration-color: #000000\">=</span><span style=\"color: #008080; text-decoration-color: #008080; font-weight: bold\">0</span><span style=\"color: #000000; text-decoration-color: #000000\">&gt;</span>\n",
       "<span style=\"color: #000000; text-decoration-color: #000000\">    type_crossref: dictionary&lt;</span><span style=\"color: #808000; text-decoration-color: #808000\">values</span><span style=\"color: #000000; text-decoration-color: #000000\">=</span><span style=\"color: #800080; text-decoration-color: #800080\">string</span><span style=\"color: #000000; text-decoration-color: #000000\">, </span><span style=\"color: #808000; text-decoration-color: #808000\">indices</span><span style=\"color: #000000; text-decoration-color: #000000\">=</span><span style=\"color: #800080; text-decoration-color: #800080\">int32</span><span style=\"color: #000000; text-decoration-color: #000000\">, </span><span style=\"color: #808000; text-decoration-color: #808000\">ordered</span><span style=\"color: #000000; text-decoration-color: #000000\">=</span><span style=\"color: #008080; text-decoration-color: #008080; font-weight: bold\">0</span><span style=\"font-weight: bold\">&gt;</span>\n",
       "    cited_by_count: uint32\n",
       "    num_authors: uint16\n",
       "    num_locations: uint16\n",
       "    num_references: uint16\n",
       "    language: string\n",
       "    has_complete_institution_info: bool\n",
       "    has_grant_info: bool\n",
       "    has_keywords: bool\n",
       "    created_date: timestamp\n",
       "    updated_date: timestamp\n",
       "    work_id: int64\n",
       "    -- schema metadata --\n",
       "    pandas: <span style=\"color: #008000; text-decoration-color: #008000\">'{\"index_columns\": [\"work_id\"], \"column_indexes\": [{\"name\": null,'</span> + <span style=\"color: #008080; text-decoration-color: #008080; font-weight: bold\">2387</span>\n",
       "<span style=\"color: #008080; text-decoration-color: #008080; font-weight: bold\">5</span> random rows:\n",
       "</pre>\n"
      ],
      "text/plain": [
       "Name: \u001b[32m'works'\u001b[0m\n",
       "Path: \u001b[32m'/N/project/openalex/slices/subset-1990-2022/dec-2023/works'\u001b[0m\n",
       "Files: \u001b[1;36m150\u001b[0m\n",
       "Rows: \u001b[1;36m186\u001b[0m,\u001b[1;36m789\u001b[0m,\u001b[1;36m669\u001b[0m\n",
       "Schema:\n",
       "    doi: string\n",
       "    title: string\n",
       "    publication_year: int16\n",
       "    publication_date: timestamp\n",
       "    type: dictionary\u001b[1m<\u001b[0m\u001b[1;33mvalues\u001b[0m\u001b[39m=\u001b[0m\u001b[35mstring\u001b[0m\u001b[39m, \u001b[0m\u001b[33mindices\u001b[0m\u001b[39m=\u001b[0m\u001b[35mint32\u001b[0m\u001b[39m, \u001b[0m\u001b[33mordered\u001b[0m\u001b[39m=\u001b[0m\u001b[1;36m0\u001b[0m\u001b[39m>\u001b[0m\n",
       "\u001b[39m    type_crossref: dictionary<\u001b[0m\u001b[33mvalues\u001b[0m\u001b[39m=\u001b[0m\u001b[35mstring\u001b[0m\u001b[39m, \u001b[0m\u001b[33mindices\u001b[0m\u001b[39m=\u001b[0m\u001b[35mint32\u001b[0m\u001b[39m, \u001b[0m\u001b[33mordered\u001b[0m\u001b[39m=\u001b[0m\u001b[1;36m0\u001b[0m\u001b[1m>\u001b[0m\n",
       "    cited_by_count: uint32\n",
       "    num_authors: uint16\n",
       "    num_locations: uint16\n",
       "    num_references: uint16\n",
       "    language: string\n",
       "    has_complete_institution_info: bool\n",
       "    has_grant_info: bool\n",
       "    has_keywords: bool\n",
       "    created_date: timestamp\n",
       "    updated_date: timestamp\n",
       "    work_id: int64\n",
       "    -- schema metadata --\n",
       "    pandas: \u001b[32m'\u001b[0m\u001b[32m{\u001b[0m\u001b[32m\"index_columns\": \u001b[0m\u001b[32m[\u001b[0m\u001b[32m\"work_id\"\u001b[0m\u001b[32m]\u001b[0m\u001b[32m, \"column_indexes\": \u001b[0m\u001b[32m[\u001b[0m\u001b[32m{\u001b[0m\u001b[32m\"name\": null,'\u001b[0m + \u001b[1;36m2387\u001b[0m\n",
       "\u001b[1;36m5\u001b[0m random rows:\n"
      ]
     },
     "metadata": {},
     "output_type": "display_data"
    },
    {
     "data": {
      "text/html": [
       "<div>\n",
       "<style scoped>\n",
       "    .dataframe tbody tr th:only-of-type {\n",
       "        vertical-align: middle;\n",
       "    }\n",
       "\n",
       "    .dataframe tbody tr th {\n",
       "        vertical-align: top;\n",
       "    }\n",
       "\n",
       "    .dataframe thead th {\n",
       "        text-align: right;\n",
       "    }\n",
       "</style>\n",
       "<table border=\"1\" class=\"dataframe\">\n",
       "  <thead>\n",
       "    <tr style=\"text-align: right;\">\n",
       "      <th></th>\n",
       "      <th>doi</th>\n",
       "      <th>title</th>\n",
       "      <th>publication_year</th>\n",
       "      <th>publication_date</th>\n",
       "      <th>type</th>\n",
       "      <th>type_crossref</th>\n",
       "      <th>cited_by_count</th>\n",
       "      <th>num_authors</th>\n",
       "      <th>num_locations</th>\n",
       "      <th>num_references</th>\n",
       "      <th>language</th>\n",
       "      <th>has_complete_institution_info</th>\n",
       "      <th>has_grant_info</th>\n",
       "      <th>has_keywords</th>\n",
       "      <th>created_date</th>\n",
       "      <th>updated_date</th>\n",
       "    </tr>\n",
       "    <tr>\n",
       "      <th>work_id</th>\n",
       "      <th></th>\n",
       "      <th></th>\n",
       "      <th></th>\n",
       "      <th></th>\n",
       "      <th></th>\n",
       "      <th></th>\n",
       "      <th></th>\n",
       "      <th></th>\n",
       "      <th></th>\n",
       "      <th></th>\n",
       "      <th></th>\n",
       "      <th></th>\n",
       "      <th></th>\n",
       "      <th></th>\n",
       "      <th></th>\n",
       "      <th></th>\n",
       "    </tr>\n",
       "  </thead>\n",
       "  <tbody>\n",
       "    <tr>\n",
       "      <th>9</th>\n",
       "      <td>NaN</td>\n",
       "      <td>Los peligros de atentado relativos al tráfico ...</td>\n",
       "      <td>2006</td>\n",
       "      <td>2006-01-01</td>\n",
       "      <td>article</td>\n",
       "      <td>journal-article</td>\n",
       "      <td>0</td>\n",
       "      <td>1</td>\n",
       "      <td>1</td>\n",
       "      <td>0</td>\n",
       "      <td>NaN</td>\n",
       "      <td>False</td>\n",
       "      <td>False</td>\n",
       "      <td>False</td>\n",
       "      <td>2016-06-24</td>\n",
       "      <td>2023-12-16 15:36:26.712</td>\n",
       "    </tr>\n",
       "    <tr>\n",
       "      <th>15</th>\n",
       "      <td>10.1007/978-3-642-32197-9_8</td>\n",
       "      <td>Führung und Delegation</td>\n",
       "      <td>2013</td>\n",
       "      <td>2013-01-01</td>\n",
       "      <td>book-chapter</td>\n",
       "      <td>book-chapter</td>\n",
       "      <td>0</td>\n",
       "      <td>2</td>\n",
       "      <td>1</td>\n",
       "      <td>0</td>\n",
       "      <td>de</td>\n",
       "      <td>True</td>\n",
       "      <td>False</td>\n",
       "      <td>True</td>\n",
       "      <td>2016-06-24</td>\n",
       "      <td>2023-12-16 15:38:19.283</td>\n",
       "    </tr>\n",
       "    <tr>\n",
       "      <th>23</th>\n",
       "      <td>NaN</td>\n",
       "      <td>Do patients with solid organ transplants or br...</td>\n",
       "      <td>2012</td>\n",
       "      <td>2012-01-01</td>\n",
       "      <td>article</td>\n",
       "      <td>journal-article</td>\n",
       "      <td>0</td>\n",
       "      <td>3</td>\n",
       "      <td>1</td>\n",
       "      <td>0</td>\n",
       "      <td>en</td>\n",
       "      <td>False</td>\n",
       "      <td>False</td>\n",
       "      <td>True</td>\n",
       "      <td>2016-06-24</td>\n",
       "      <td>2023-12-10 21:46:33.346</td>\n",
       "    </tr>\n",
       "    <tr>\n",
       "      <th>79</th>\n",
       "      <td>NaN</td>\n",
       "      <td>Ethno-medicinal survey among Malayali tribes o...</td>\n",
       "      <td>2009</td>\n",
       "      <td>2009-01-01</td>\n",
       "      <td>article</td>\n",
       "      <td>journal-article</td>\n",
       "      <td>0</td>\n",
       "      <td>2</td>\n",
       "      <td>1</td>\n",
       "      <td>0</td>\n",
       "      <td>en</td>\n",
       "      <td>False</td>\n",
       "      <td>False</td>\n",
       "      <td>True</td>\n",
       "      <td>2016-06-24</td>\n",
       "      <td>2023-12-11 01:10:27.279</td>\n",
       "    </tr>\n",
       "    <tr>\n",
       "      <th>87</th>\n",
       "      <td>NaN</td>\n",
       "      <td>Perspectivas culturales sobre la opinión públi...</td>\n",
       "      <td>2010</td>\n",
       "      <td>2010-01-01</td>\n",
       "      <td>article</td>\n",
       "      <td>journal-article</td>\n",
       "      <td>0</td>\n",
       "      <td>1</td>\n",
       "      <td>1</td>\n",
       "      <td>0</td>\n",
       "      <td>es</td>\n",
       "      <td>False</td>\n",
       "      <td>False</td>\n",
       "      <td>True</td>\n",
       "      <td>2016-06-24</td>\n",
       "      <td>2023-12-17 04:37:19.758</td>\n",
       "    </tr>\n",
       "  </tbody>\n",
       "</table>\n",
       "</div>"
      ],
      "text/plain": [
       "                                 doi  \\\n",
       "work_id                                \n",
       "9                                NaN   \n",
       "15       10.1007/978-3-642-32197-9_8   \n",
       "23                               NaN   \n",
       "79                               NaN   \n",
       "87                               NaN   \n",
       "\n",
       "                                                     title  publication_year  \\\n",
       "work_id                                                                        \n",
       "9        Los peligros de atentado relativos al tráfico ...              2006   \n",
       "15                                  Führung und Delegation              2013   \n",
       "23       Do patients with solid organ transplants or br...              2012   \n",
       "79       Ethno-medicinal survey among Malayali tribes o...              2009   \n",
       "87       Perspectivas culturales sobre la opinión públi...              2010   \n",
       "\n",
       "        publication_date          type    type_crossref  cited_by_count  \\\n",
       "work_id                                                                   \n",
       "9             2006-01-01       article  journal-article               0   \n",
       "15            2013-01-01  book-chapter     book-chapter               0   \n",
       "23            2012-01-01       article  journal-article               0   \n",
       "79            2009-01-01       article  journal-article               0   \n",
       "87            2010-01-01       article  journal-article               0   \n",
       "\n",
       "         num_authors  num_locations  num_references language  \\\n",
       "work_id                                                        \n",
       "9                  1              1               0      NaN   \n",
       "15                 2              1               0       de   \n",
       "23                 3              1               0       en   \n",
       "79                 2              1               0       en   \n",
       "87                 1              1               0       es   \n",
       "\n",
       "         has_complete_institution_info  has_grant_info  has_keywords  \\\n",
       "work_id                                                                \n",
       "9                                False           False         False   \n",
       "15                                True           False          True   \n",
       "23                               False           False          True   \n",
       "79                               False           False          True   \n",
       "87                               False           False          True   \n",
       "\n",
       "        created_date            updated_date  \n",
       "work_id                                       \n",
       "9         2016-06-24 2023-12-16 15:36:26.712  \n",
       "15        2016-06-24 2023-12-16 15:38:19.283  \n",
       "23        2016-06-24 2023-12-10 21:46:33.346  \n",
       "79        2016-06-24 2023-12-11 01:10:27.279  \n",
       "87        2016-06-24 2023-12-17 04:37:19.758  "
      ]
     },
     "metadata": {},
     "output_type": "display_data"
    }
   ],
   "source": [
    "parq_basepath = Path('/N/project/openalex/slices/subset-1990-2022/dec-2023/')\n",
    "peek_parquet(parq_basepath / 'works')"
   ]
  },
  {
   "cell_type": "code",
   "execution_count": 12,
   "id": "94a22913-c584-4c62-99a6-fbf4849c2f9a",
   "metadata": {
    "execution": {
     "iopub.execute_input": "2024-07-18T02:41:34.895237Z",
     "iopub.status.busy": "2024-07-18T02:41:34.895089Z",
     "iopub.status.idle": "2024-07-18T02:42:38.401583Z",
     "shell.execute_reply": "2024-07-18T02:42:38.401068Z",
     "shell.execute_reply.started": "2024-07-18T02:41:34.895224Z"
    }
   },
   "outputs": [
    {
     "data": {
      "text/html": [
       "<pre style=\"white-space:pre;overflow-x:auto;line-height:normal;font-family:Menlo,'DejaVu Sans Mono',consolas,'Courier New',monospace\">\n",
       "Reading <span style=\"color: #008000; text-decoration-color: #008000\">'works_referenced_works'</span> from <span style=\"color: #008000; text-decoration-color: #008000\">'/N/project/openalex/slices/subset-1990-2022/dec-2023/works_referenced_works'</span>\n",
       "using <span style=\"color: #808000; text-decoration-color: #808000\">engine</span>=<span style=\"color: #008000; text-decoration-color: #008000\">'pyarrow'</span>\n",
       "</pre>\n"
      ],
      "text/plain": [
       "\n",
       "Reading \u001b[32m'works_referenced_works'\u001b[0m from \u001b[32m'/N/project/openalex/slices/subset-1990-2022/dec-2023/works_referenced_works'\u001b[0m\n",
       "using \u001b[33mengine\u001b[0m=\u001b[32m'pyarrow'\u001b[0m\n"
      ]
     },
     "metadata": {},
     "output_type": "display_data"
    },
    {
     "data": {
      "text/html": [
       "<pre style=\"white-space:pre;overflow-x:auto;line-height:normal;font-family:Menlo,'DejaVu Sans Mono',consolas,'Courier New',monospace\">Read <span style=\"color: #008080; text-decoration-color: #008080; font-weight: bold\">195</span>,<span style=\"color: #008080; text-decoration-color: #008080; font-weight: bold\">338</span> rows from <span style=\"color: #008000; text-decoration-color: #008000\">'works_referenced_works'</span> in <span style=\"color: #008080; text-decoration-color: #008080; font-weight: bold\">34.67</span> sec.\n",
       "</pre>\n"
      ],
      "text/plain": [
       "Read \u001b[1;36m195\u001b[0m,\u001b[1;36m338\u001b[0m rows from \u001b[32m'works_referenced_works'\u001b[0m in \u001b[1;36m34.67\u001b[0m sec.\n"
      ]
     },
     "metadata": {},
     "output_type": "display_data"
    },
    {
     "data": {
      "text/html": [
       "<pre style=\"white-space:pre;overflow-x:auto;line-height:normal;font-family:Menlo,'DejaVu Sans Mono',consolas,'Courier New',monospace\">Converting dtypes took <span style=\"color: #008080; text-decoration-color: #008080; font-weight: bold\">0.00</span> sec. Size before: <span style=\"color: #008080; text-decoration-color: #008080; font-weight: bold\">0.</span>00GB, after: <span style=\"color: #008080; text-decoration-color: #008080; font-weight: bold\">0.</span>00GB\n",
       "</pre>\n"
      ],
      "text/plain": [
       "Converting dtypes took \u001b[1;36m0.00\u001b[0m sec. Size before: \u001b[1;36m0.\u001b[0m00GB, after: \u001b[1;36m0.\u001b[0m00GB\n"
      ]
     },
     "metadata": {},
     "output_type": "display_data"
    },
    {
     "data": {
      "text/html": [
       "<div>\n",
       "<style scoped>\n",
       "    .dataframe tbody tr th:only-of-type {\n",
       "        vertical-align: middle;\n",
       "    }\n",
       "\n",
       "    .dataframe tbody tr th {\n",
       "        vertical-align: top;\n",
       "    }\n",
       "\n",
       "    .dataframe thead th {\n",
       "        text-align: right;\n",
       "    }\n",
       "</style>\n",
       "<table border=\"1\" class=\"dataframe\">\n",
       "  <thead>\n",
       "    <tr style=\"text-align: right;\">\n",
       "      <th></th>\n",
       "      <th>work_id</th>\n",
       "      <th>referenced_work_id</th>\n",
       "    </tr>\n",
       "    <tr>\n",
       "      <th>__null_dask_index__</th>\n",
       "      <th></th>\n",
       "      <th></th>\n",
       "    </tr>\n",
       "  </thead>\n",
       "  <tbody>\n",
       "    <tr>\n",
       "      <th>1366160</th>\n",
       "      <td>2769347416</td>\n",
       "      <td>1757407923</td>\n",
       "    </tr>\n",
       "    <tr>\n",
       "      <th>1167880</th>\n",
       "      <td>2769790736</td>\n",
       "      <td>1757407923</td>\n",
       "    </tr>\n",
       "    <tr>\n",
       "      <th>3444298</th>\n",
       "      <td>2764321466</td>\n",
       "      <td>1757407923</td>\n",
       "    </tr>\n",
       "  </tbody>\n",
       "</table>\n",
       "</div>"
      ],
      "text/plain": [
       "                        work_id  referenced_work_id\n",
       "__null_dask_index__                                \n",
       "1366160              2769347416          1757407923\n",
       "1167880              2769790736          1757407923\n",
       "3444298              2764321466          1757407923"
      ]
     },
     "metadata": {},
     "output_type": "display_data"
    },
    {
     "data": {
      "text/html": [
       "<pre style=\"white-space:pre;overflow-x:auto;line-height:normal;font-family:Menlo,'DejaVu Sans Mono',consolas,'Courier New',monospace\">\n",
       "Reading <span style=\"color: #008000; text-decoration-color: #008000\">'works_referenced_works'</span> from <span style=\"color: #008000; text-decoration-color: #008000\">'/N/project/openalex/slices/subset-1990-2022/dec-2023/works_referenced_works'</span>\n",
       "using <span style=\"color: #808000; text-decoration-color: #808000\">engine</span>=<span style=\"color: #008000; text-decoration-color: #008000\">'pyarrow'</span>\n",
       "</pre>\n"
      ],
      "text/plain": [
       "\n",
       "Reading \u001b[32m'works_referenced_works'\u001b[0m from \u001b[32m'/N/project/openalex/slices/subset-1990-2022/dec-2023/works_referenced_works'\u001b[0m\n",
       "using \u001b[33mengine\u001b[0m=\u001b[32m'pyarrow'\u001b[0m\n"
      ]
     },
     "metadata": {},
     "output_type": "display_data"
    },
    {
     "data": {
      "text/html": [
       "<pre style=\"white-space:pre;overflow-x:auto;line-height:normal;font-family:Menlo,'DejaVu Sans Mono',consolas,'Courier New',monospace\">Read <span style=\"color: #008080; text-decoration-color: #008080; font-weight: bold\">6</span>,<span style=\"color: #008080; text-decoration-color: #008080; font-weight: bold\">406</span>,<span style=\"color: #008080; text-decoration-color: #008080; font-weight: bold\">979</span> rows from <span style=\"color: #008000; text-decoration-color: #008000\">'works_referenced_works'</span> in <span style=\"color: #008080; text-decoration-color: #008080; font-weight: bold\">28.78</span> sec.\n",
       "</pre>\n"
      ],
      "text/plain": [
       "Read \u001b[1;36m6\u001b[0m,\u001b[1;36m406\u001b[0m,\u001b[1;36m979\u001b[0m rows from \u001b[32m'works_referenced_works'\u001b[0m in \u001b[1;36m28.78\u001b[0m sec.\n"
      ]
     },
     "metadata": {},
     "output_type": "display_data"
    },
    {
     "data": {
      "text/html": [
       "<pre style=\"white-space:pre;overflow-x:auto;line-height:normal;font-family:Menlo,'DejaVu Sans Mono',consolas,'Courier New',monospace\">Converting dtypes took <span style=\"color: #008080; text-decoration-color: #008080; font-weight: bold\">0.01</span> sec. Size before: <span style=\"color: #008080; text-decoration-color: #008080; font-weight: bold\">0.</span>14GB, after: <span style=\"color: #008080; text-decoration-color: #008080; font-weight: bold\">0.</span>14GB\n",
       "</pre>\n"
      ],
      "text/plain": [
       "Converting dtypes took \u001b[1;36m0.01\u001b[0m sec. Size before: \u001b[1;36m0.\u001b[0m14GB, after: \u001b[1;36m0.\u001b[0m14GB\n"
      ]
     },
     "metadata": {},
     "output_type": "display_data"
    },
    {
     "data": {
      "text/html": [
       "<div>\n",
       "<style scoped>\n",
       "    .dataframe tbody tr th:only-of-type {\n",
       "        vertical-align: middle;\n",
       "    }\n",
       "\n",
       "    .dataframe tbody tr th {\n",
       "        vertical-align: top;\n",
       "    }\n",
       "\n",
       "    .dataframe thead th {\n",
       "        text-align: right;\n",
       "    }\n",
       "</style>\n",
       "<table border=\"1\" class=\"dataframe\">\n",
       "  <thead>\n",
       "    <tr style=\"text-align: right;\">\n",
       "      <th></th>\n",
       "      <th>work_id</th>\n",
       "      <th>referenced_work_id</th>\n",
       "    </tr>\n",
       "    <tr>\n",
       "      <th>__null_dask_index__</th>\n",
       "      <th></th>\n",
       "      <th></th>\n",
       "    </tr>\n",
       "  </thead>\n",
       "  <tbody>\n",
       "    <tr>\n",
       "      <th>9286891</th>\n",
       "      <td>2965139175</td>\n",
       "      <td>748993927</td>\n",
       "    </tr>\n",
       "    <tr>\n",
       "      <th>205024</th>\n",
       "      <td>3046325021</td>\n",
       "      <td>748993927</td>\n",
       "    </tr>\n",
       "    <tr>\n",
       "      <th>7441280</th>\n",
       "      <td>3157408288</td>\n",
       "      <td>748993927</td>\n",
       "    </tr>\n",
       "  </tbody>\n",
       "</table>\n",
       "</div>"
      ],
      "text/plain": [
       "                        work_id  referenced_work_id\n",
       "__null_dask_index__                                \n",
       "9286891              2965139175           748993927\n",
       "205024               3046325021           748993927\n",
       "7441280              3157408288           748993927"
      ]
     },
     "metadata": {},
     "output_type": "display_data"
    },
    {
     "data": {
      "text/html": [
       "<pre style=\"white-space:pre;overflow-x:auto;line-height:normal;font-family:Menlo,'DejaVu Sans Mono',consolas,'Courier New',monospace\"><span style=\"color: #800080; text-decoration-color: #800080; font-weight: bold\">len</span><span style=\"font-weight: bold\">(</span>focal_cits_idxs<span style=\"font-weight: bold\">)</span>=<span style=\"color: #008080; text-decoration-color: #008080; font-weight: bold\">188</span>,<span style=\"color: #008080; text-decoration-color: #008080; font-weight: bold\">533</span>\n",
       "</pre>\n"
      ],
      "text/plain": [
       "\u001b[1;35mlen\u001b[0m\u001b[1m(\u001b[0mfocal_cits_idxs\u001b[1m)\u001b[0m=\u001b[1;36m188\u001b[0m,\u001b[1;36m533\u001b[0m\n"
      ]
     },
     "metadata": {},
     "output_type": "display_data"
    }
   ],
   "source": [
    "## get the work ids for the authors \n",
    "focal_papers_idxs = set(\n",
    "    top4000['work_id'].values\n",
    ")\n",
    "\n",
    "focal_cits = read_parquet(\n",
    "    parq_basepath / 'works_referenced_works',\n",
    "    engine='pyarrow',\n",
    "    columns=['work_id', 'referenced_work_id'],\n",
    "    filters=[[('referenced_work_id', 'in', focal_papers_idxs)]],\n",
    ")\n",
    "\n",
    "focal_cits_idxs = set(\n",
    "    focal_cits.work_id\n",
    ")\n",
    "\n",
    "potential_cits_of_cits = read_parquet(\n",
    "    parq_basepath / 'works_referenced_works',\n",
    "    engine='pyarrow',\n",
    "    columns=['work_id', 'referenced_work_id'],\n",
    "    filters=[[('referenced_work_id', 'in', focal_cits_idxs)]],\n",
    ")\n",
    "print(f'{len(focal_cits_idxs)=:,}')"
   ]
  },
  {
   "cell_type": "code",
   "execution_count": 34,
   "id": "9cd25f1e-e424-42b5-957a-c4a9a5223a0f",
   "metadata": {
    "execution": {
     "iopub.execute_input": "2024-07-18T02:59:17.923352Z",
     "iopub.status.busy": "2024-07-18T02:59:17.923031Z",
     "iopub.status.idle": "2024-07-18T02:59:20.494740Z",
     "shell.execute_reply": "2024-07-18T02:59:20.494291Z",
     "shell.execute_reply.started": "2024-07-18T02:59:17.923335Z"
    }
   },
   "outputs": [
    {
     "data": {
      "text/html": [
       "<pre style=\"white-space:pre;overflow-x:auto;line-height:normal;font-family:Menlo,'DejaVu Sans Mono',consolas,'Courier New',monospace\">\n",
       "Reading <span style=\"color: #008000; text-decoration-color: #008000\">'works'</span> from <span style=\"color: #008000; text-decoration-color: #008000\">'/N/project/openalex/slices/subset-1990-2022/dec-2023/works'</span> using <span style=\"color: #808000; text-decoration-color: #808000\">engine</span>=<span style=\"color: #008000; text-decoration-color: #008000\">'pyarrow'</span>\n",
       "</pre>\n"
      ],
      "text/plain": [
       "\n",
       "Reading \u001b[32m'works'\u001b[0m from \u001b[32m'/N/project/openalex/slices/subset-1990-2022/dec-2023/works'\u001b[0m using \u001b[33mengine\u001b[0m=\u001b[32m'pyarrow'\u001b[0m\n"
      ]
     },
     "metadata": {},
     "output_type": "display_data"
    },
    {
     "data": {
      "text/html": [
       "<pre style=\"white-space:pre;overflow-x:auto;line-height:normal;font-family:Menlo,'DejaVu Sans Mono',consolas,'Courier New',monospace\">Read <span style=\"color: #008080; text-decoration-color: #008080; font-weight: bold\">188</span>,<span style=\"color: #008080; text-decoration-color: #008080; font-weight: bold\">564</span> rows from <span style=\"color: #008000; text-decoration-color: #008000\">'works'</span> in <span style=\"color: #008080; text-decoration-color: #008080; font-weight: bold\">2.55</span> sec.\n",
       "</pre>\n"
      ],
      "text/plain": [
       "Read \u001b[1;36m188\u001b[0m,\u001b[1;36m564\u001b[0m rows from \u001b[32m'works'\u001b[0m in \u001b[1;36m2.55\u001b[0m sec.\n"
      ]
     },
     "metadata": {},
     "output_type": "display_data"
    },
    {
     "data": {
      "text/html": [
       "<pre style=\"white-space:pre;overflow-x:auto;line-height:normal;font-family:Menlo,'DejaVu Sans Mono',consolas,'Courier New',monospace\">Converting dtypes took <span style=\"color: #008080; text-decoration-color: #008080; font-weight: bold\">0.00</span> sec. Size before: <span style=\"color: #008080; text-decoration-color: #008080; font-weight: bold\">0.</span>00GB, after: <span style=\"color: #008080; text-decoration-color: #008080; font-weight: bold\">0.</span>00GB\n",
       "</pre>\n"
      ],
      "text/plain": [
       "Converting dtypes took \u001b[1;36m0.00\u001b[0m sec. Size before: \u001b[1;36m0.\u001b[0m00GB, after: \u001b[1;36m0.\u001b[0m00GB\n"
      ]
     },
     "metadata": {},
     "output_type": "display_data"
    },
    {
     "data": {
      "text/html": [
       "<div>\n",
       "<style scoped>\n",
       "    .dataframe tbody tr th:only-of-type {\n",
       "        vertical-align: middle;\n",
       "    }\n",
       "\n",
       "    .dataframe tbody tr th {\n",
       "        vertical-align: top;\n",
       "    }\n",
       "\n",
       "    .dataframe thead th {\n",
       "        text-align: right;\n",
       "    }\n",
       "</style>\n",
       "<table border=\"1\" class=\"dataframe\">\n",
       "  <thead>\n",
       "    <tr style=\"text-align: right;\">\n",
       "      <th></th>\n",
       "      <th>publication_year</th>\n",
       "    </tr>\n",
       "    <tr>\n",
       "      <th>work_id</th>\n",
       "      <th></th>\n",
       "    </tr>\n",
       "  </thead>\n",
       "  <tbody>\n",
       "    <tr>\n",
       "      <th>340578</th>\n",
       "      <td>2011</td>\n",
       "    </tr>\n",
       "    <tr>\n",
       "      <th>514065</th>\n",
       "      <td>2005</td>\n",
       "    </tr>\n",
       "    <tr>\n",
       "      <th>560964</th>\n",
       "      <td>2007</td>\n",
       "    </tr>\n",
       "  </tbody>\n",
       "</table>\n",
       "</div>"
      ],
      "text/plain": [
       "         publication_year\n",
       "work_id                  \n",
       "340578               2011\n",
       "514065               2005\n",
       "560964               2007"
      ]
     },
     "metadata": {},
     "output_type": "display_data"
    }
   ],
   "source": [
    "works_br_year = read_parquet(\n",
    "    parq_basepath / 'works',\n",
    "    engine='pyarrow',\n",
    "    columns=['work_id', 'publication_year'],\n",
    "    filters=[[('work_id', 'in', focal_papers_idxs | focal_cits_idxs)]],\n",
    ")"
   ]
  },
  {
   "cell_type": "code",
   "execution_count": null,
   "id": "3215c02d-db21-4fc2-843a-1ae8558fd4f3",
   "metadata": {
    "execution": {
     "iopub.status.busy": "2024-07-15T16:07:15.961374Z",
     "iopub.status.idle": "2024-07-15T16:07:15.961589Z",
     "shell.execute_reply": "2024-07-15T16:07:15.961496Z",
     "shell.execute_reply.started": "2024-07-15T16:07:15.961485Z"
    }
   },
   "outputs": [],
   "source": [
    "# focal_papers_idxs = set(top4000['work_id']) #.values)\n",
    "# focal_cits = references[references['referenced_work_id'].isin(focal_papers_idxs)].compute()\n",
    "# focal_cits_idxs = set(focal_cits['work_id'].values)\n",
    "# potential_cits_of_cits = references[references['referenced_work_id'].isin(focal_cits_idxs)].compute()"
   ]
  },
  {
   "cell_type": "code",
   "execution_count": null,
   "id": "2780bcf7-cffc-401f-abcd-fcd1ceeae085",
   "metadata": {
    "execution": {
     "iopub.status.busy": "2024-07-15T15:56:45.706532Z",
     "iopub.status.idle": "2024-07-15T15:56:45.706734Z",
     "shell.execute_reply": "2024-07-15T15:56:45.706638Z",
     "shell.execute_reply.started": "2024-07-15T15:56:45.706628Z"
    }
   },
   "outputs": [],
   "source": [
    "# potential_cits_of_cits.to_csv('potential_cits_of_cits_sample', sep='\\t')"
   ]
  },
  {
   "cell_type": "code",
   "execution_count": 14,
   "id": "d4981eeb-d994-4f7b-afeb-35b8599e9c61",
   "metadata": {
    "execution": {
     "iopub.execute_input": "2024-07-18T02:42:41.971129Z",
     "iopub.status.busy": "2024-07-18T02:42:41.970659Z",
     "iopub.status.idle": "2024-07-18T02:43:02.087909Z",
     "shell.execute_reply": "2024-07-18T02:43:02.087252Z",
     "shell.execute_reply.started": "2024-07-18T02:42:41.971116Z"
    }
   },
   "outputs": [
    {
     "data": {
      "text/html": [
       "<pre style=\"white-space:pre;overflow-x:auto;line-height:normal;font-family:Menlo,'DejaVu Sans Mono',consolas,'Courier New',monospace\">\n",
       "Reading <span style=\"color: #008000; text-decoration-color: #008000\">'works_referenced_works'</span> from <span style=\"color: #008000; text-decoration-color: #008000\">'/N/project/openalex/slices/subset-1990-2022/dec-2023/works_referenced_works'</span>\n",
       "using <span style=\"color: #808000; text-decoration-color: #808000\">engine</span>=<span style=\"color: #008000; text-decoration-color: #008000\">'pyarrow'</span>\n",
       "</pre>\n"
      ],
      "text/plain": [
       "\n",
       "Reading \u001b[32m'works_referenced_works'\u001b[0m from \u001b[32m'/N/project/openalex/slices/subset-1990-2022/dec-2023/works_referenced_works'\u001b[0m\n",
       "using \u001b[33mengine\u001b[0m=\u001b[32m'pyarrow'\u001b[0m\n"
      ]
     },
     "metadata": {},
     "output_type": "display_data"
    },
    {
     "data": {
      "text/html": [
       "<pre style=\"white-space:pre;overflow-x:auto;line-height:normal;font-family:Menlo,'DejaVu Sans Mono',consolas,'Courier New',monospace\">Read <span style=\"color: #008080; text-decoration-color: #008080; font-weight: bold\">4</span>,<span style=\"color: #008080; text-decoration-color: #008080; font-weight: bold\">233</span> rows from <span style=\"color: #008000; text-decoration-color: #008000\">'works_referenced_works'</span> in <span style=\"color: #008080; text-decoration-color: #008080; font-weight: bold\">20.09</span> sec.\n",
       "</pre>\n"
      ],
      "text/plain": [
       "Read \u001b[1;36m4\u001b[0m,\u001b[1;36m233\u001b[0m rows from \u001b[32m'works_referenced_works'\u001b[0m in \u001b[1;36m20.09\u001b[0m sec.\n"
      ]
     },
     "metadata": {},
     "output_type": "display_data"
    },
    {
     "data": {
      "text/html": [
       "<pre style=\"white-space:pre;overflow-x:auto;line-height:normal;font-family:Menlo,'DejaVu Sans Mono',consolas,'Courier New',monospace\">Converting dtypes took <span style=\"color: #008080; text-decoration-color: #008080; font-weight: bold\">0.00</span> sec. Size before: <span style=\"color: #008080; text-decoration-color: #008080; font-weight: bold\">0.</span>00GB, after: <span style=\"color: #008080; text-decoration-color: #008080; font-weight: bold\">0.</span>00GB\n",
       "</pre>\n"
      ],
      "text/plain": [
       "Converting dtypes took \u001b[1;36m0.00\u001b[0m sec. Size before: \u001b[1;36m0.\u001b[0m00GB, after: \u001b[1;36m0.\u001b[0m00GB\n"
      ]
     },
     "metadata": {},
     "output_type": "display_data"
    },
    {
     "data": {
      "text/html": [
       "<div>\n",
       "<style scoped>\n",
       "    .dataframe tbody tr th:only-of-type {\n",
       "        vertical-align: middle;\n",
       "    }\n",
       "\n",
       "    .dataframe tbody tr th {\n",
       "        vertical-align: top;\n",
       "    }\n",
       "\n",
       "    .dataframe thead th {\n",
       "        text-align: right;\n",
       "    }\n",
       "</style>\n",
       "<table border=\"1\" class=\"dataframe\">\n",
       "  <thead>\n",
       "    <tr style=\"text-align: right;\">\n",
       "      <th></th>\n",
       "      <th>work_id</th>\n",
       "      <th>referenced_work_id</th>\n",
       "    </tr>\n",
       "    <tr>\n",
       "      <th>__null_dask_index__</th>\n",
       "      <th></th>\n",
       "      <th></th>\n",
       "    </tr>\n",
       "  </thead>\n",
       "  <tbody>\n",
       "    <tr>\n",
       "      <th>74064</th>\n",
       "      <td>2105321265</td>\n",
       "      <td>144336581</td>\n",
       "    </tr>\n",
       "    <tr>\n",
       "      <th>74065</th>\n",
       "      <td>2105321265</td>\n",
       "      <td>1981119137</td>\n",
       "    </tr>\n",
       "    <tr>\n",
       "      <th>74066</th>\n",
       "      <td>2105321265</td>\n",
       "      <td>2005501262</td>\n",
       "    </tr>\n",
       "  </tbody>\n",
       "</table>\n",
       "</div>"
      ],
      "text/plain": [
       "                        work_id  referenced_work_id\n",
       "__null_dask_index__                                \n",
       "74064                2105321265           144336581\n",
       "74065                2105321265          1981119137\n",
       "74066                2105321265          2005501262"
      ]
     },
     "metadata": {},
     "output_type": "display_data"
    }
   ],
   "source": [
    "refs = read_parquet(\n",
    "    parq_basepath / 'works_referenced_works',\n",
    "    engine='pyarrow',\n",
    "    columns=['work_id', 'referenced_work_id'],\n",
    "    filters=[[('work_id', 'in', focal_papers_idxs)]],\n",
    ")"
   ]
  },
  {
   "cell_type": "code",
   "execution_count": null,
   "id": "f77f0f81-ac19-48ee-861e-e251a2038ab5",
   "metadata": {
    "execution": {
     "iopub.status.busy": "2024-07-18T02:26:53.224182Z",
     "iopub.status.idle": "2024-07-18T02:26:53.224348Z",
     "shell.execute_reply": "2024-07-18T02:26:53.224269Z",
     "shell.execute_reply.started": "2024-07-18T02:26:53.224261Z"
    }
   },
   "outputs": [],
   "source": [
    "# refs = references[references['work_id'].isin(focal_papers_idxs)].compute()"
   ]
  },
  {
   "cell_type": "code",
   "execution_count": 15,
   "id": "d2d9f86a-bea0-4f58-a24f-b7462fda2fbf",
   "metadata": {
    "execution": {
     "iopub.execute_input": "2024-07-18T02:43:02.089041Z",
     "iopub.status.busy": "2024-07-18T02:43:02.088699Z",
     "iopub.status.idle": "2024-07-18T02:43:02.094362Z",
     "shell.execute_reply": "2024-07-18T02:43:02.093746Z",
     "shell.execute_reply.started": "2024-07-18T02:43:02.089025Z"
    }
   },
   "outputs": [],
   "source": [
    "def get_disruption_idx1(focal_cits, focal_refs):\n",
    "    idx_numerator = 0\n",
    "    test = potential_cits_of_cits[potential_cits_of_cits['work_id'].isin(focal_cits)]\n",
    "    for paper, paper_refs in test.groupby('work_id'):\n",
    "        a1 = set(paper_refs['referenced_work_id'].values)\n",
    "        intersection = a1 & set(focal_refs['referenced_work_id'].values)\n",
    "        f_it = 1\n",
    "        if len(intersection) > 0:\n",
    "            b_it = 1\n",
    "        else:\n",
    "            b_it = 0\n",
    "    \n",
    "        idx_numerator += -2*f_it*b_it + f_it    \n",
    "    \n",
    "    \n",
    "    idx_denominator = len(focal_cits)\n",
    "    disruption_idx = idx_numerator/idx_denominator\n",
    "    return disruption_idx"
   ]
  },
  {
   "cell_type": "code",
   "execution_count": null,
   "id": "03e961f2-6f87-423d-8f15-6b154e67c31a",
   "metadata": {
    "execution": {
     "iopub.status.busy": "2024-07-15T15:56:45.709609Z",
     "iopub.status.idle": "2024-07-15T15:56:45.709809Z",
     "shell.execute_reply": "2024-07-15T15:56:45.709715Z",
     "shell.execute_reply.started": "2024-07-15T15:56:45.709706Z"
    }
   },
   "outputs": [],
   "source": [
    "'''paper_disruption = []\n",
    "i = 0\n",
    "# ainda nao tem janela de tempo de 5 anos depois do artigo publicado\n",
    "for paper_id, focal_paper_cits in focal_cits.groupby('referenced_work_id'):\n",
    "    print(i, end='\\r')\n",
    "    i += 1\n",
    "    total_cits = len(focal_paper_cits)\n",
    "    focal_paper_cits = focal_paper_cits[focal_paper_cits['work_publication_year'] - focal_paper_cits['referenced_work_publication_year'] <= 5]\n",
    "    focal_paper_cits = set(focal_paper_cits['work_id'])\n",
    "    focal_refs = refs[refs['work_id'] == paper_id]\n",
    "    \n",
    "    if len(focal_refs) == 0 or len(focal_paper_cits) < 30:\n",
    "        continue\n",
    "    disr_idx = get_disruption_idx1(focal_paper_cits, focal_refs)\n",
    "    paper_disruption.append((paper_id, disr_idx, len(focal_refs), total_cits, len(focal_paper_cits)))\n",
    "'''"
   ]
  },
  {
   "cell_type": "code",
   "execution_count": 70,
   "id": "05ac2e35-bb91-45a0-8c78-dce037990ed5",
   "metadata": {
    "execution": {
     "iopub.execute_input": "2024-07-18T09:28:39.537330Z",
     "iopub.status.busy": "2024-07-18T09:28:39.537038Z",
     "iopub.status.idle": "2024-07-18T09:28:48.260185Z",
     "shell.execute_reply": "2024-07-18T09:28:48.259744Z",
     "shell.execute_reply.started": "2024-07-18T09:28:39.537316Z"
    }
   },
   "outputs": [
    {
     "data": {
      "application/vnd.jupyter.widget-view+json": {
       "model_id": "695a2b3ce0bb4a29bd4d680f9a7e46ff",
       "version_major": 2,
       "version_minor": 0
      },
      "text/plain": [
       "  0%|          | 0/40 [00:00<?, ?it/s]"
      ]
     },
     "metadata": {},
     "output_type": "display_data"
    }
   ],
   "source": [
    "from dask.multiprocessing import get\n",
    "# from tqdm.auto import tqdm \n",
    "from tqdm import tqdm\n",
    "\n",
    "tqdm.pandas()\n",
    "def bla(focal_paper_cits):\n",
    "    #global refs\n",
    "    paper_id = focal_paper_cits['referenced_work_id'].iloc[0]\n",
    "\n",
    "    focal_paper_cits = focal_paper_cits.merge(works_br_year, how='left',left_on='work_id',right_on='work_id')\n",
    "    year = works_br_year.loc[paper_id]['publication_year']\n",
    "    total_cits = len(focal_paper_cits)\n",
    "    focal_paper_cits = focal_paper_cits[focal_paper_cits['publication_year'] - year <= 5]\n",
    "    focal_paper_cits = set(focal_paper_cits['work_id'])\n",
    "    focal_refs = refs[refs['work_id'] == paper_id]\n",
    "    \n",
    "    if len(focal_refs) == 0:\n",
    "        print('focal_refs == 0')\n",
    "        return None, None #, None, None, None\n",
    "    if len(focal_paper_cits) < 30:\n",
    "        print('focal_paper_cits 30')\n",
    "        return None, None #, None, None, None\n",
    "    disr_idx = get_disruption_idx1(focal_paper_cits, focal_refs)\n",
    "    return paper_id, disr_idx #, len(focal_refs), total_cits, len(focal_paper_cits)\n",
    "\n",
    "# paper_disruption = []\n",
    "i = 0\n",
    "\n",
    "# ainda nao tem janela de tempo de 5 anos depois do artigo publicado\n",
    "\n",
    "paper_disruption = focal_cits.groupby('referenced_work_id').progress_apply(bla)\n"
   ]
  },
  {
   "cell_type": "code",
   "execution_count": 48,
   "id": "2ecf7f2c-6b81-4afc-b88f-c9a0faaa7878",
   "metadata": {
    "execution": {
     "iopub.execute_input": "2024-07-18T03:10:10.054161Z",
     "iopub.status.busy": "2024-07-18T03:10:10.053895Z",
     "iopub.status.idle": "2024-07-18T03:10:10.057462Z",
     "shell.execute_reply": "2024-07-18T03:10:10.057110Z",
     "shell.execute_reply.started": "2024-07-18T03:10:10.054143Z"
    }
   },
   "outputs": [
    {
     "data": {
      "text/plain": [
       "40"
      ]
     },
     "execution_count": 48,
     "metadata": {},
     "output_type": "execute_result"
    }
   ],
   "source": [
    "len(paper_disruption)"
   ]
  },
  {
   "cell_type": "code",
   "execution_count": 69,
   "id": "c845620e-d750-4052-96bc-8c975557f9ec",
   "metadata": {
    "execution": {
     "iopub.execute_input": "2024-07-18T09:24:26.149247Z",
     "iopub.status.busy": "2024-07-18T09:24:26.148971Z",
     "iopub.status.idle": "2024-07-18T09:24:26.174853Z",
     "shell.execute_reply": "2024-07-18T09:24:26.174488Z",
     "shell.execute_reply.started": "2024-07-18T09:24:26.149222Z"
    }
   },
   "outputs": [
    {
     "data": {
      "text/plain": [
       "referenced_work_id\n",
       "1757407923     (1757407923, 0.4913170325090303)\n",
       "1968105193     (1968105193, 0.8301237964236589)\n",
       "1993397663     (1993397663, 0.6270783847980997)\n",
       "2003949305     (2003949305, 0.4176470588235294)\n",
       "2014886338    (2014886338, 0.47118023787740165)\n",
       "2021908094     (2021908094, 0.7512291052114061)\n",
       "2027545702     (2027545702, 0.7855603448275862)\n",
       "2038754799     (2038754799, 0.4616822429906542)\n",
       "2040340473     (2040340473, 0.5550496688741722)\n",
       "2045287414     (2045287414, 0.5126705653021443)\n",
       "dtype: object"
      ]
     },
     "execution_count": 69,
     "metadata": {},
     "output_type": "execute_result"
    }
   ],
   "source": [
    "paper_disruption.head(10)"
   ]
  },
  {
   "cell_type": "code",
   "execution_count": null,
   "id": "0fd0abd3-32bd-4b20-9c35-7ff44cfa0ff7",
   "metadata": {
    "execution": {
     "iopub.status.busy": "2024-07-15T15:56:45.713318Z",
     "iopub.status.idle": "2024-07-15T15:56:45.713519Z",
     "shell.execute_reply": "2024-07-15T15:56:45.713424Z",
     "shell.execute_reply.started": "2024-07-15T15:56:45.713415Z"
    }
   },
   "outputs": [],
   "source": [
    "paper_disruption.head()"
   ]
  },
  {
   "cell_type": "code",
   "execution_count": null,
   "id": "7ab75a31-dd18-4923-b9db-f1044b07a163",
   "metadata": {},
   "outputs": [],
   "source": [
    "paper_disruption_pd = pd.DataFrame(paper_disruption)\n",
    "paper_disruption_pd.columns = ['work_id', 'disruption', 'refs', 'cits', 'citations5']\n",
    "paper_disruption_pd.head(10)"
   ]
  },
  {
   "cell_type": "code",
   "execution_count": null,
   "id": "63fd2e13-64f1-4477-9fd3-aaec68f0910d",
   "metadata": {},
   "outputs": [],
   "source": [
    "paper_infos_disr = pd.merge(paper_disruption_pd, top4000, on='work_id')\n",
    "paper_infos_disr.head(10)"
   ]
  },
  {
   "cell_type": "code",
   "execution_count": null,
   "id": "afa3546f-e44b-4eee-b5d0-dc40d8587770",
   "metadata": {},
   "outputs": [],
   "source": [
    "paper_infos_disr = paper_infos_disr.sort_values('disruption', ascending=False)"
   ]
  },
  {
   "cell_type": "code",
   "execution_count": null,
   "id": "3d79c699-e9ec-415f-8065-7da092e39b6d",
   "metadata": {},
   "outputs": [],
   "source": [
    "# paper_infos_disr.to_csv('top4000cits_infos_with_disruption')\n",
    "paper_infos_disr.to_csv('cits_infos_with_disruption')"
   ]
  },
  {
   "cell_type": "code",
   "execution_count": 75,
   "id": "cc6fcf3c-bfd1-41c7-91c4-a88628493fba",
   "metadata": {
    "execution": {
     "iopub.execute_input": "2024-06-04T01:38:47.127812Z",
     "iopub.status.busy": "2024-06-04T01:38:47.127532Z",
     "iopub.status.idle": "2024-06-04T01:38:47.135093Z",
     "shell.execute_reply": "2024-06-04T01:38:47.134593Z",
     "shell.execute_reply.started": "2024-06-04T01:38:47.127795Z"
    }
   },
   "outputs": [],
   "source": [
    "X = [x for x,y,z,w,_ in paper_disruption]\n",
    "Y = [y for x,y,z,w,_ in paper_disruption] # disruption\n",
    "Z = [z for x,y,z,w,_ in paper_disruption] # refs\n",
    "W = [w for x,y,z,w,_ in paper_disruption] # cits\n",
    "WW = [w for x,y,z,_,w in paper_disruption] # cits 5"
   ]
  },
  {
   "cell_type": "code",
   "execution_count": 70,
   "id": "76aa73fe-2689-46ec-89a8-0469a47c1a4b",
   "metadata": {
    "execution": {
     "iopub.execute_input": "2024-06-04T01:33:41.785444Z",
     "iopub.status.busy": "2024-06-04T01:33:41.784854Z",
     "iopub.status.idle": "2024-06-04T01:33:42.029006Z",
     "shell.execute_reply": "2024-06-04T01:33:42.028229Z",
     "shell.execute_reply.started": "2024-06-04T01:33:41.785421Z"
    }
   },
   "outputs": [
    {
     "data": {
      "image/png": "[encoded data removed]",
      "text/plain": [
       "<Figure size 640x480 with 1 Axes>"
      ]
     },
     "metadata": {},
     "output_type": "display_data"
    }
   ],
   "source": [
    "plt.scatter(Y, Z, alpha=0.3)\n",
    "plt.title('disruption index vs number of references')\n",
    "plt.show()"
   ]
  },
  {
   "cell_type": "code",
   "execution_count": 71,
   "id": "f2b9a826-4b71-4435-8f77-d65bbc74c1ed",
   "metadata": {
    "execution": {
     "iopub.execute_input": "2024-06-04T01:33:42.326268Z",
     "iopub.status.busy": "2024-06-04T01:33:42.325720Z",
     "iopub.status.idle": "2024-06-04T01:33:42.550692Z",
     "shell.execute_reply": "2024-06-04T01:33:42.549821Z",
     "shell.execute_reply.started": "2024-06-04T01:33:42.326242Z"
    }
   },
   "outputs": [
    {
     "data": {
      "image/png": "[encoded data removed]",
      "text/plain": [
       "<Figure size 640x480 with 1 Axes>"
      ]
     },
     "metadata": {},
     "output_type": "display_data"
    }
   ],
   "source": [
    "plt.scatter([y for y in Y if y >= 0.25], [z for y,z in zip(Y,Z) if y >= 0.25], alpha=0.3)\n",
    "plt.title('disruption index (>= 0.25) vs number of references')\n",
    "plt.show()"
   ]
  },
  {
   "cell_type": "code",
   "execution_count": 79,
   "id": "6e1cd3c5-7818-444e-817a-fc4980a4977e",
   "metadata": {
    "execution": {
     "iopub.execute_input": "2024-06-04T01:43:37.827115Z",
     "iopub.status.busy": "2024-06-04T01:43:37.826750Z",
     "iopub.status.idle": "2024-06-04T01:43:38.281015Z",
     "shell.execute_reply": "2024-06-04T01:43:38.280157Z",
     "shell.execute_reply.started": "2024-06-04T01:43:37.827094Z"
    }
   },
   "outputs": [
    {
     "data": {
      "image/png": "[encoded data removed]",
      "text/plain": [
       "<Figure size 640x480 with 1 Axes>"
      ]
     },
     "metadata": {},
     "output_type": "display_data"
    }
   ],
   "source": [
    "plt.scatter([z for y, z in zip(Y,Z) if y >= 0.9], [w for y, w in zip(Y,W) if y >= 0.9], alpha=0.2)\n",
    "plt.yscale('log')\n",
    "plt.xscale('log')\n",
    "plt.title('references vs citations (disruption >= 0.25)')\n",
    "plt.xlabel('references')\n",
    "plt.ylabel('citations')\n",
    "plt.show()"
   ]
  },
  {
   "cell_type": "code",
   "execution_count": 82,
   "id": "488ad41f-8de7-4629-8169-8a0eb958e8be",
   "metadata": {
    "execution": {
     "iopub.execute_input": "2024-06-04T01:47:12.790152Z",
     "iopub.status.busy": "2024-06-04T01:47:12.789751Z",
     "iopub.status.idle": "2024-06-04T01:47:13.071066Z",
     "shell.execute_reply": "2024-06-04T01:47:13.070494Z",
     "shell.execute_reply.started": "2024-06-04T01:47:12.790128Z"
    }
   },
   "outputs": [
    {
     "data": {
      "image/png": "[encoded data removed]",
      "text/plain": [
       "<Figure size 640x480 with 1 Axes>"
      ]
     },
     "metadata": {},
     "output_type": "display_data"
    }
   ],
   "source": [
    "# plt.scatter(Y, WW, alpha=0.3)\n",
    "\n",
    "plt.scatter([y for y in Y if y < 0], [w for y, w in zip(Y,WW) if y < 0], alpha=0.3)\n",
    "plt.title('disruption index vs number of citations (5 years window)')\n",
    "plt.yscale('log')\n",
    "plt.show()"
   ]
  },
  {
   "cell_type": "code",
   "execution_count": 74,
   "id": "5d51ff21-a093-400a-a025-d8e45211e449",
   "metadata": {
    "execution": {
     "iopub.execute_input": "2024-06-04T01:33:55.968286Z",
     "iopub.status.busy": "2024-06-04T01:33:55.968012Z",
     "iopub.status.idle": "2024-06-04T01:33:59.876138Z",
     "shell.execute_reply": "2024-06-04T01:33:59.875317Z",
     "shell.execute_reply.started": "2024-06-04T01:33:55.968267Z"
    }
   },
   "outputs": [
    {
     "data": {
      "text/plain": [
       "Text(0.5, 1.0, 'disruption dist')"
      ]
     },
     "execution_count": 74,
     "metadata": {},
     "output_type": "execute_result"
    },
    {
     "data": {
      "image/png": "[encoded data removed]",
      "text/plain": [
       "<Figure size 640x480 with 1 Axes>"
      ]
     },
     "metadata": {},
     "output_type": "display_data"
    }
   ],
   "source": [
    "plt.hist(Y, bins=20)\n",
    "plt.title('disruption dist')"
   ]
  },
  {
   "cell_type": "code",
   "execution_count": 54,
   "id": "9e9cd12d-6954-457c-9918-fc84f4454a67",
   "metadata": {
    "execution": {
     "iopub.execute_input": "2024-06-03T23:58:12.684606Z",
     "iopub.status.busy": "2024-06-03T23:58:12.684301Z",
     "iopub.status.idle": "2024-06-03T23:58:12.688583Z",
     "shell.execute_reply": "2024-06-03T23:58:12.687909Z",
     "shell.execute_reply.started": "2024-06-03T23:58:12.684588Z"
    }
   },
   "outputs": [],
   "source": [
    "paper_disruption_pd = pd.DataFrame(paper_disruption)\n",
    "paper_disruption_pd.columns = ['work_id', 'disruption', 'refs', 'cits', 'cits5']"
   ]
  },
  {
   "cell_type": "code",
   "execution_count": 55,
   "id": "76decad6-13f3-47d8-8de9-9ad893ac677f",
   "metadata": {
    "execution": {
     "iopub.execute_input": "2024-06-03T23:58:14.826568Z",
     "iopub.status.busy": "2024-06-03T23:58:14.826230Z",
     "iopub.status.idle": "2024-06-03T23:58:15.401334Z",
     "shell.execute_reply": "2024-06-03T23:58:15.400559Z",
     "shell.execute_reply.started": "2024-06-03T23:58:14.826547Z"
    }
   },
   "outputs": [
    {
     "data": {
      "text/html": [
       "<div>\n",
       "<style scoped>\n",
       "    .dataframe tbody tr th:only-of-type {\n",
       "        vertical-align: middle;\n",
       "    }\n",
       "\n",
       "    .dataframe tbody tr th {\n",
       "        vertical-align: top;\n",
       "    }\n",
       "\n",
       "    .dataframe thead th {\n",
       "        text-align: right;\n",
       "    }\n",
       "</style>\n",
       "<table border=\"1\" class=\"dataframe\">\n",
       "  <thead>\n",
       "    <tr style=\"text-align: right;\">\n",
       "      <th></th>\n",
       "      <th>work_id</th>\n",
       "      <th>disruption</th>\n",
       "      <th>refs</th>\n",
       "      <th>cits</th>\n",
       "      <th>cits5</th>\n",
       "    </tr>\n",
       "  </thead>\n",
       "  <tbody>\n",
       "    <tr>\n",
       "      <th>0</th>\n",
       "      <td>12080193</td>\n",
       "      <td>0.400000</td>\n",
       "      <td>6</td>\n",
       "      <td>295</td>\n",
       "      <td>30</td>\n",
       "    </tr>\n",
       "    <tr>\n",
       "      <th>1</th>\n",
       "      <td>27366642</td>\n",
       "      <td>0.557692</td>\n",
       "      <td>136</td>\n",
       "      <td>284</td>\n",
       "      <td>104</td>\n",
       "    </tr>\n",
       "    <tr>\n",
       "      <th>2</th>\n",
       "      <td>34264966</td>\n",
       "      <td>0.678161</td>\n",
       "      <td>82</td>\n",
       "      <td>354</td>\n",
       "      <td>87</td>\n",
       "    </tr>\n",
       "    <tr>\n",
       "      <th>3</th>\n",
       "      <td>64079490</td>\n",
       "      <td>0.917241</td>\n",
       "      <td>12</td>\n",
       "      <td>317</td>\n",
       "      <td>145</td>\n",
       "    </tr>\n",
       "    <tr>\n",
       "      <th>4</th>\n",
       "      <td>82112906</td>\n",
       "      <td>0.304348</td>\n",
       "      <td>74</td>\n",
       "      <td>565</td>\n",
       "      <td>253</td>\n",
       "    </tr>\n",
       "  </tbody>\n",
       "</table>\n",
       "</div>"
      ],
      "text/plain": [
       "    work_id  disruption  refs  cits  cits5\n",
       "0  12080193    0.400000     6   295     30\n",
       "1  27366642    0.557692   136   284    104\n",
       "2  34264966    0.678161    82   354     87\n",
       "3  64079490    0.917241    12   317    145\n",
       "4  82112906    0.304348    74   565    253"
      ]
     },
     "execution_count": 55,
     "metadata": {},
     "output_type": "execute_result"
    }
   ],
   "source": [
    "paper_disruption_pd.head()"
   ]
  },
  {
   "cell_type": "code",
   "execution_count": null,
   "id": "ecebfd38-e99a-4944-b966-afd14282c00f",
   "metadata": {},
   "outputs": [],
   "source": []
  },
  {
   "cell_type": "code",
   "execution_count": 3,
   "id": "1697cc5d-b846-47b0-98ed-b0c8f3fc78e7",
   "metadata": {
    "execution": {
     "iopub.execute_input": "2024-09-19T11:19:10.403542Z",
     "iopub.status.busy": "2024-09-19T11:19:10.403414Z",
     "iopub.status.idle": "2024-09-19T11:19:10.417202Z",
     "shell.execute_reply": "2024-09-19T11:19:10.416834Z",
     "shell.execute_reply.started": "2024-09-19T11:19:10.403530Z"
    }
   },
   "outputs": [],
   "source": [
    "def load_dict(filename):\n",
    "    input_file = open(filename)\n",
    "    file_dict = dict()\n",
    "    for line in input_file:\n",
    "        key, values = line[:-1].split('\\t')\n",
    "        values = values[1:-1].split(',')\n",
    "        values = [int(v) for v in values]\n",
    "        file_dict[int(key)] = values\n",
    "    return file_dict"
   ]
  },
  {
   "cell_type": "code",
   "execution_count": 4,
   "id": "2ab1a778-714e-421f-a070-ca78b6fb2be9",
   "metadata": {
    "execution": {
     "iopub.execute_input": "2024-09-19T11:19:10.418031Z",
     "iopub.status.busy": "2024-09-19T11:19:10.417905Z",
     "iopub.status.idle": "2024-09-19T11:27:15.518522Z",
     "shell.execute_reply": "2024-09-19T11:27:15.504012Z",
     "shell.execute_reply.started": "2024-09-19T11:19:10.418018Z"
    }
   },
   "outputs": [],
   "source": [
    "index2cited_index = load_dict('../adilson/index2cited_index')"
   ]
  },
  {
   "cell_type": "code",
   "execution_count": 5,
   "id": "1eddf145-c737-4539-8246-06bfd9a5170c",
   "metadata": {
    "execution": {
     "iopub.execute_input": "2024-09-19T11:27:15.547426Z",
     "iopub.status.busy": "2024-09-19T11:27:15.546920Z",
     "iopub.status.idle": "2024-09-19T11:37:51.119527Z",
     "shell.execute_reply": "2024-09-19T11:37:51.118329Z",
     "shell.execute_reply.started": "2024-09-19T11:27:15.547406Z"
    }
   },
   "outputs": [],
   "source": [
    "index2citing_index = load_dict('../adilson/index2citing_index')"
   ]
  },
  {
   "cell_type": "code",
   "execution_count": 6,
   "id": "5129d5a0-4dc4-4dc6-a185-0830926e45f1",
   "metadata": {
    "execution": {
     "iopub.execute_input": "2024-09-19T11:38:02.372942Z",
     "iopub.status.busy": "2024-09-19T11:38:02.372146Z",
     "iopub.status.idle": "2024-09-19T11:38:18.336183Z",
     "shell.execute_reply": "2024-09-19T11:38:18.335766Z",
     "shell.execute_reply.started": "2024-09-19T11:38:02.372921Z"
    }
   },
   "outputs": [
    {
     "data": {
      "text/html": [
       "<div>\n",
       "<style scoped>\n",
       "    .dataframe tbody tr th:only-of-type {\n",
       "        vertical-align: middle;\n",
       "    }\n",
       "\n",
       "    .dataframe tbody tr th {\n",
       "        vertical-align: top;\n",
       "    }\n",
       "\n",
       "    .dataframe thead th {\n",
       "        text-align: right;\n",
       "    }\n",
       "</style>\n",
       "<table border=\"1\" class=\"dataframe\">\n",
       "  <thead>\n",
       "    <tr style=\"text-align: right;\">\n",
       "      <th></th>\n",
       "      <th>Unnamed: 0.1</th>\n",
       "      <th>Unnamed: 0</th>\n",
       "      <th>work_id</th>\n",
       "      <th>author_position</th>\n",
       "      <th>author_id</th>\n",
       "      <th>author_name</th>\n",
       "      <th>institution_lineage_level</th>\n",
       "      <th>institution_id</th>\n",
       "      <th>institution_name</th>\n",
       "      <th>country_code</th>\n",
       "      <th>is_corresponding</th>\n",
       "      <th>publication_year</th>\n",
       "    </tr>\n",
       "  </thead>\n",
       "  <tbody>\n",
       "    <tr>\n",
       "      <th>0</th>\n",
       "      <td>45</td>\n",
       "      <td>1736429</td>\n",
       "      <td>186730611</td>\n",
       "      <td>first</td>\n",
       "      <td>5078262518</td>\n",
       "      <td>Guilherme Ribeiro</td>\n",
       "      <td>0</td>\n",
       "      <td>161460629</td>\n",
       "      <td>Universidade Federal Rural do Rio de Janeiro</td>\n",
       "      <td>BR</td>\n",
       "      <td>True</td>\n",
       "      <td>2014</td>\n",
       "    </tr>\n",
       "    <tr>\n",
       "      <th>1</th>\n",
       "      <td>46</td>\n",
       "      <td>1745057</td>\n",
       "      <td>193254257</td>\n",
       "      <td>first</td>\n",
       "      <td>5019917793</td>\n",
       "      <td>Maria Cecília Picinato</td>\n",
       "      <td>0</td>\n",
       "      <td>17974374</td>\n",
       "      <td>Universidade de São Paulo</td>\n",
       "      <td>BR</td>\n",
       "      <td>False</td>\n",
       "      <td>2001</td>\n",
       "    </tr>\n",
       "    <tr>\n",
       "      <th>2</th>\n",
       "      <td>174</td>\n",
       "      <td>1632607</td>\n",
       "      <td>206370407</td>\n",
       "      <td>first</td>\n",
       "      <td>5027925855</td>\n",
       "      <td>Eduardo André Perondi</td>\n",
       "      <td>0</td>\n",
       "      <td>4210126369</td>\n",
       "      <td>Polydoro Ernani de São Thiago University Hospital</td>\n",
       "      <td>BR</td>\n",
       "      <td>True</td>\n",
       "      <td>2007</td>\n",
       "    </tr>\n",
       "    <tr>\n",
       "      <th>3</th>\n",
       "      <td>529</td>\n",
       "      <td>1508716</td>\n",
       "      <td>222095242</td>\n",
       "      <td>first</td>\n",
       "      <td>5004541578</td>\n",
       "      <td>Reis Lc</td>\n",
       "      <td>0</td>\n",
       "      <td>879563668</td>\n",
       "      <td>Universidade Estadual Paulista (Unesp)</td>\n",
       "      <td>BR</td>\n",
       "      <td>False</td>\n",
       "      <td>1996</td>\n",
       "    </tr>\n",
       "    <tr>\n",
       "      <th>4</th>\n",
       "      <td>547</td>\n",
       "      <td>643845</td>\n",
       "      <td>181667436</td>\n",
       "      <td>first</td>\n",
       "      <td>5070999666</td>\n",
       "      <td>Carlos Alberto Crespo de Souza</td>\n",
       "      <td>0</td>\n",
       "      <td>4210148245</td>\n",
       "      <td>Fundação Faculdade de Medicina</td>\n",
       "      <td>BR</td>\n",
       "      <td>False</td>\n",
       "      <td>1999</td>\n",
       "    </tr>\n",
       "  </tbody>\n",
       "</table>\n",
       "</div>"
      ],
      "text/plain": [
       "   Unnamed: 0.1  Unnamed: 0    work_id author_position   author_id  \\\n",
       "0            45     1736429  186730611           first  5078262518   \n",
       "1            46     1745057  193254257           first  5019917793   \n",
       "2           174     1632607  206370407           first  5027925855   \n",
       "3           529     1508716  222095242           first  5004541578   \n",
       "4           547      643845  181667436           first  5070999666   \n",
       "\n",
       "                      author_name  institution_lineage_level  institution_id  \\\n",
       "0               Guilherme Ribeiro                          0       161460629   \n",
       "1          Maria Cecília Picinato                          0        17974374   \n",
       "2           Eduardo André Perondi                          0      4210126369   \n",
       "3                         Reis Lc                          0       879563668   \n",
       "4  Carlos Alberto Crespo de Souza                          0      4210148245   \n",
       "\n",
       "                                    institution_name country_code  \\\n",
       "0       Universidade Federal Rural do Rio de Janeiro           BR   \n",
       "1                          Universidade de São Paulo           BR   \n",
       "2  Polydoro Ernani de São Thiago University Hospital           BR   \n",
       "3             Universidade Estadual Paulista (Unesp)           BR   \n",
       "4                     Fundação Faculdade de Medicina           BR   \n",
       "\n",
       "   is_corresponding  publication_year  \n",
       "0              True              2014  \n",
       "1             False              2001  \n",
       "2              True              2007  \n",
       "3             False              1996  \n",
       "4             False              1999  "
      ]
     },
     "execution_count": 6,
     "metadata": {},
     "output_type": "execute_result"
    }
   ],
   "source": [
    "works_br = pd.read_csv('works_br', sep='\\t')\n",
    "works_br.head()"
   ]
  },
  {
   "cell_type": "code",
   "execution_count": 7,
   "id": "b3a06c7b-e664-4a52-bd67-6d5c1ab26656",
   "metadata": {
    "execution": {
     "iopub.execute_input": "2024-09-19T11:39:42.013550Z",
     "iopub.status.busy": "2024-09-19T11:39:42.013116Z",
     "iopub.status.idle": "2024-09-19T11:39:43.265077Z",
     "shell.execute_reply": "2024-09-19T11:39:43.264590Z",
     "shell.execute_reply.started": "2024-09-19T11:39:42.013533Z"
    }
   },
   "outputs": [],
   "source": [
    "focal_papers = set(works_br['work_id'])# ids dos artigos"
   ]
  },
  {
   "cell_type": "code",
   "execution_count": null,
   "id": "d57b9494-84e0-4e9f-a8e4-26e091a27fb8",
   "metadata": {
    "execution": {
     "iopub.execute_input": "2024-09-19T11:42:03.840470Z",
     "iopub.status.busy": "2024-09-19T11:42:03.839557Z"
    }
   },
   "outputs": [],
   "source": [
    "works_dd = dd.read_parquet(path + works_path, calculate_divisions=True)\n",
    "index2ID = list(works_dd.index)\n",
    "ID2index = {id: index for index, id in enumerate(index2ID)}"
   ]
  },
  {
   "cell_type": "code",
   "execution_count": null,
   "id": "225bc698-95d6-41c0-bc82-1e9db2f1bd28",
   "metadata": {},
   "outputs": [],
   "source": [
    "\n",
    "def get_in(index): # ARTIGOS QUE CITARAM INDEX\n",
    "    if index in index2cited_index:\n",
    "        return index2cited_index[index]\n",
    "    return []\n",
    "\n",
    "def get_out(index): # ARTIGOS REFERENCIADOS POR INDEX / INDEX CITA\n",
    "    if index in index2citing_index:\n",
    "        return index2citing_index[index]\n",
    "    return []\n",
    "    \n",
    "Dindex_list = []\n",
    "\n",
    "for focal_paper in tqdm.tqdm(focal_papers, total=len(focal_papers)):\n",
    "    focal_index = ID2index[focal_paper]\n",
    "    if focal_index in index2citing_index: # focal_index precisa ter referencias\n",
    "        #print(focal_paper)\n",
    "    \n",
    "        citing_focal_paper = get_in(focal_index)\n",
    "        cited_by_focal_paper = set(get_out(focal_index))\n",
    "\n",
    "        cited_by_citing_focal_paper = [set(get_out(paper_id)) for paper_id in citing_focal_paper]\n",
    "        cited_by_citing_focal_paper = [cited_by_focal_paper & set(citing_list) for citing_list in cited_by_citing_focal_paper]\n",
    "        \n",
    "        citing_only_focal = 0\n",
    "        citing_focal_and_refs_of_focal = 0\n",
    "        for test in cited_by_citing_focal_paper:\n",
    "            if len(test) > 0:\n",
    "                citing_focal_and_refs_of_focal += 1\n",
    "            else:\n",
    "                citing_only_focal += 1        \n",
    "\n",
    "        citing_refs_of_focal = [get_in(paper_id) for paper_id in cited_by_focal_paper]\n",
    "        citing_refs_of_focal_set = set()\n",
    "        for papers in citing_refs_of_focal:\n",
    "            citing_refs_of_focal_set |= set(papers)\n",
    "        citing_refs_of_focal_set = list(citing_refs_of_focal_set)\n",
    "        citing_only_refs_of_focal = 0\n",
    "        for paper in citing_refs_of_focal_set:\n",
    "            paper_refs = get_out(paper)\n",
    "            if focal_index not in paper_refs:\n",
    "                citing_only_refs_of_focal += 1\n",
    "\n",
    "        Dindex = (citing_only_focal - citing_focal_and_refs_of_focal)/(citing_only_focal + citing_focal_and_refs_of_focal + citing_only_refs_of_focal)\n",
    "        # print(Dindex)\n",
    "        Dindex_list.append((focal_paper, citing_only_focal, citing_focal_and_refs_of_focal, citing_only_refs_of_focal, Dindex))\n",
    "\n",
    "pd.DataFrame(Dindex_list, columns=['paper_openalex_id', 'only_focal', 'focal_and_refs', 'only_refs', 'Dindex']).to_csv('Dindex_list_br')"
   ]
  },
  {
   "cell_type": "code",
   "execution_count": null,
   "id": "a1d2bddd-83f5-49bb-ad8d-e33b67643910",
   "metadata": {},
   "outputs": [],
   "source": []
  }
 ],
 "metadata": {
  "kernelspec": {
   "display_name": "Python 3 (ipykernel)",
   "language": "python",
   "name": "python3"
  },
  "language_info": {
   "codemirror_mode": {
    "name": "ipython",
    "version": 3
   },
   "file_extension": ".py",
   "mimetype": "text/x-python",
   "name": "python",
   "nbconvert_exporter": "python",
   "pygments_lexer": "ipython3",
   "version": "3.10.12"
  }
 },
 "nbformat": 4,
 "nbformat_minor": 5
}
